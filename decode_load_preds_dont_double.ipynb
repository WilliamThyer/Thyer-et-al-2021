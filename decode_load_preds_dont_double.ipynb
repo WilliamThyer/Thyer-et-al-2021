{
 "cells": [
  {
   "cell_type": "code",
   "execution_count": 1,
   "metadata": {
    "ExecuteTime": {
     "end_time": "2020-04-27T16:04:22.293518Z",
     "start_time": "2020-04-27T16:04:21.080260Z"
    }
   },
   "outputs": [],
   "source": [
    "import pandas as pd\n",
    "import decode_eeg\n",
    "import numpy as np\n",
    "import matplotlib.pyplot as plt\n",
    "import seaborn as sns\n",
    "import scipy.stats as sista\n",
    "\n",
    "np.random.seed(42)\n",
    "%load_ext autoreload\n",
    "%autoreload 2"
   ]
  },
  {
   "cell_type": "code",
   "execution_count": 2,
   "metadata": {
    "ExecuteTime": {
     "end_time": "2020-04-27T16:04:22.894385Z",
     "start_time": "2020-04-27T16:04:22.740468Z"
    }
   },
   "outputs": [],
   "source": [
    "# Experiment setup\n",
    "experiment_name1 = '1801'\n",
    "experiment_name2 = '1901'\n",
    "experiment_name3 = '1902'\n",
    "data_dir1 = f'./data/{experiment_name1}'\n",
    "data_dir2 = f'./data/{experiment_name2}'\n",
    "data_dir3 = f'./data/{experiment_name3}'\n",
    "exp1 = decode_eeg.Experiment(experiment_name1,data_dir1)\n",
    "exp2 = decode_eeg.Experiment(experiment_name2,data_dir2)\n",
    "exp3 = decode_eeg.Experiment(experiment_name3,data_dir3)"
   ]
  },
  {
   "cell_type": "markdown",
   "metadata": {},
   "source": [
    "## Single feature to conjunction"
   ]
  },
  {
   "cell_type": "code",
   "execution_count": 3,
   "metadata": {
    "ExecuteTime": {
     "end_time": "2020-04-27T16:04:23.565993Z",
     "start_time": "2020-04-27T16:04:23.344124Z"
    }
   },
   "outputs": [],
   "source": [
    "# Classification parameters and setup\n",
    "time_window = 50\n",
    "time_step = 25\n",
    "trial_average = 20\n",
    "n_splits = 1000\n",
    "group_dict_list =  [{0:[1],1:[2]},{0:[2],1:[4]}]\n",
    "wrangl = decode_eeg.Wrangler(exp1.info['times'],time_window,time_step,trial_average,n_splits,group_dict_list=group_dict_list)\n",
    "\n",
    "sync_s2c = decode_eeg.Experiment_Syncer(experiments=[exp1,exp2,exp3],\n",
    "                                    wrangler = wrangl,\n",
    "                                    train_group = [experiment_name1,experiment_name2])\n",
    "\n",
    "clfr = decode_eeg.Classification(wrangl,sync_s2c.nsub,num_labels=2)"
   ]
  },
  {
   "cell_type": "code",
   "execution_count": 4,
   "metadata": {
    "ExecuteTime": {
     "end_time": "2020-04-23T18:47:35.520690Z",
     "start_time": "2020-04-23T18:33:49.455219Z"
    }
   },
   "outputs": [
    {
     "name": "stdout",
     "output_type": "stream",
     "text": [
      "0\n",
      "1\n",
      "2\n",
      "3\n",
      "4\n",
      "5\n",
      "6\n",
      "7\n",
      "8\n",
      "9\n",
      "10\n",
      "11\n",
      "12\n",
      "13\n",
      "14\n",
      "15\n",
      "16\n",
      "17\n",
      "18\n",
      "19\n"
     ]
    }
   ],
   "source": [
    "# If you want to retrain classifiers, run this cell. Otherwise run next cell.\n",
    "\n",
    "clfr.acc = np.zeros((clfr.nsub,len(group_dict_list),np.size(clfr.t),clfr.n_splits))*np.nan\n",
    "clfr.acc_shuff = np.zeros((clfr.nsub,len(group_dict_list),np.size(clfr.t),clfr.n_splits))*np.nan\n",
    "clfr.conf_mat = np.zeros((clfr.nsub,len(group_dict_list),np.size(clfr.t),clfr.n_splits,clfr.num_labels,clfr.num_labels))*np.nan\n",
    "\n",
    "for isub,sub in enumerate(sync_s2c.matched_ids):\n",
    "    print(isub)\n",
    "    xdata_all,ydata_all = sync_s2c.load_eeg(sub)\n",
    "    \n",
    "    # Runs classification with 1vs2 and then 2vs4, also handles trial binning\n",
    "    for xdata,ydata in sync_s2c.pairwise(xdata_all,ydata_all):\n",
    "        xdata,ydata = sync_s2c.balance_labels(xdata,ydata)\n",
    "        xdata,ydata = sync_s2c.average_trials(xdata,ydata)\n",
    "        \n",
    "        # Splits data into train and test based on sync.train_group\n",
    "        xdata_train,xdata_test,ydata_train,ydata_test = sync_s2c.group_data(xdata,ydata)\n",
    "        \n",
    "        # Cross validation\n",
    "        for X_train_all, X_test_all, y_train, y_test in wrangl.train_test_custom_split(xdata_train,xdata_test,ydata_train,ydata_test):\n",
    "            X_test_all, y_test = wrangl.balance_labels(X_test_all,y_test)\n",
    "            y_test_shuffle = np.random.permutation(y_test)\n",
    "            for X_train, X_test in wrangl.roll_over_time(X_train_all, X_test_all):\n",
    "                    clfr.decode_pairwise(X_train,X_test,y_train,y_test,y_test_shuffle,isub)\n",
    "\n",
    "# Set up interp object and save results.\n",
    "interp_s2c = decode_eeg.Interpreter(clfr, subtitle = f'single_feature_to_conj_set_size_trialbin{trial_average}_')\n",
    "interp_s2c.matched_ids = sync_s2c.matched_ids\n",
    "interp_s2c.save_results(additional_values=['matched_ids'])"
   ]
  },
  {
   "cell_type": "code",
   "execution_count": 4,
   "metadata": {
    "ExecuteTime": {
     "end_time": "2020-04-27T16:04:46.779892Z",
     "start_time": "2020-04-27T16:04:46.471835Z"
    }
   },
   "outputs": [],
   "source": [
    "# Set up interp object and load pre-existing results. Skip if you ran previous cell.\n",
    "interp_s2c = decode_eeg.Interpreter()\n",
    "interp_s2c.load_results('single_feature_to_conj_set_size_trialbin20.pickle')"
   ]
  },
  {
   "cell_type": "markdown",
   "metadata": {},
   "source": [
    "## Single feature to single feature"
   ]
  },
  {
   "cell_type": "code",
   "execution_count": 5,
   "metadata": {},
   "outputs": [],
   "source": [
    "# Classification parameters and setup\n",
    "time_window = 50\n",
    "time_step = 25\n",
    "trial_average = 20\n",
    "n_splits = 1000\n",
    "group_dict_list =  [{0:[1],1:[2]},{0:[2],1:[4]}]\n",
    "wrangl = decode_eeg.Wrangler(exp1.info['times'],time_window,time_step,trial_average,n_splits,group_dict_list=group_dict_list)\n",
    "\n",
    "sync_s2s = decode_eeg.Experiment_Syncer(experiments=[exp1,exp2],\n",
    "                                    wrangler = wrangl,\n",
    "                                    train_group = [experiment_name1,experiment_name2])\n",
    "\n",
    "clfr = decode_eeg.Classification(wrangl,sync_s2s.nsub,num_labels=2)"
   ]
  },
  {
   "cell_type": "code",
   "execution_count": 6,
   "metadata": {},
   "outputs": [
    {
     "name": "stdout",
     "output_type": "stream",
     "text": [
      "0\n",
      "1\n",
      "2\n",
      "3\n",
      "4\n",
      "5\n",
      "6\n",
      "7\n",
      "8\n",
      "9\n",
      "10\n",
      "11\n",
      "12\n",
      "13\n",
      "14\n",
      "15\n",
      "16\n",
      "17\n",
      "18\n",
      "19\n",
      "20\n",
      "21\n",
      "22\n",
      "23\n"
     ]
    }
   ],
   "source": [
    "# If you want to retrain classifiers, run this cell. Otherwise run next cell.\n",
    "\n",
    "clfr.acc = np.zeros((clfr.nsub,len(group_dict_list),np.size(clfr.t),clfr.n_splits))*np.nan\n",
    "clfr.acc_shuff = np.zeros((clfr.nsub,len(group_dict_list),np.size(clfr.t),clfr.n_splits))*np.nan\n",
    "clfr.conf_mat = np.zeros((clfr.nsub,len(group_dict_list),np.size(clfr.t),clfr.n_splits,clfr.num_labels,clfr.num_labels))*np.nan\n",
    "\n",
    "for isub,sub in enumerate(sync_s2s.matched_ids):\n",
    "    print(isub)\n",
    "    xdata_all,ydata_all = sync_s2s.load_eeg(sub)\n",
    "    \n",
    "    # Runs classification with 1vs2 and then 2vs4, also handles trial binning\n",
    "    for xdata,ydata in sync_s2s.pairwise(xdata_all,ydata_all):\n",
    "        xdata,ydata = sync_s2s.balance_labels(xdata,ydata)\n",
    "        xdata,ydata = sync_s2s.average_trials(xdata,ydata)\n",
    "        \n",
    "        # Splits data into train and test based on sync.train_group\n",
    "        xdata,ydata = sync_s2s.group_data(xdata,ydata)\n",
    "\n",
    "        # Cross validation\n",
    "        for X_train_all, X_test_all, y_train, y_test in wrangl.train_test_split(xdata,ydata):\n",
    "            X_test_all, y_test = wrangl.balance_labels(X_test_all,y_test)\n",
    "            y_test_shuffle = np.random.permutation(y_test)\n",
    "            for X_train, X_test in wrangl.roll_over_time(X_train_all, X_test_all):\n",
    "                    clfr.decode_pairwise(X_train,X_test,y_train,y_test,y_test_shuffle,isub)\n",
    "\n",
    "# Set up interp object and save results. \n",
    "interp_s2s = decode_eeg.Interpreter(clfr, subtitle = f'single_feature_set_size_trialbin{trial_average}_')\n",
    "interp_s2s.matched_ids = sync_s2s.matched_ids\n",
    "interp_s2s.save_results(additional_values=['matched_ids'])"
   ]
  },
  {
   "cell_type": "code",
   "execution_count": 6,
   "metadata": {},
   "outputs": [],
   "source": [
    "# Set up interp object and load pre-existing results. Skip if you ran previous cell.\n",
    "interp_s2s = decode_eeg.Interpreter()\n",
    "interp_s2s.load_results('single_feature_set_size_trialbin20.pickle')"
   ]
  },
  {
   "cell_type": "markdown",
   "metadata": {},
   "source": [
    "## Prepping conf mat data"
   ]
  },
  {
   "cell_type": "code",
   "execution_count": 7,
   "metadata": {},
   "outputs": [],
   "source": [
    "# get confusions matrices, and drop subjects who aren't in both datasets\n",
    "conj_conf = interp_s2c.conf_mat\n",
    "sing_conf = interp_s2s.conf_mat\n",
    "remove_subs_idx = np.isin(interp_s2s.matched_ids,interp_s2c.matched_ids)\n",
    "sing_conf = sing_conf[remove_subs_idx]"
   ]
  },
  {
   "cell_type": "code",
   "execution_count": 8,
   "metadata": {},
   "outputs": [
    {
     "data": {
      "text/plain": [
       "(20, 2, 59, 1000, 2, 2)"
      ]
     },
     "execution_count": 8,
     "metadata": {},
     "output_type": "execute_result"
    }
   ],
   "source": [
    "# confusion matrices shape: [subject, ss pair, timepoint, fold, ss, ss]\n",
    "sing_conf.shape"
   ]
  },
  {
   "cell_type": "code",
   "execution_count": 9,
   "metadata": {},
   "outputs": [],
   "source": [
    "# function gets normalized predictions. Percent of trials of given condition predicted as 1 or 2.\n",
    "def get_norm_sub_means(conf,ss):\n",
    "    sub_means = np.mean(np.mean(conf[:,ss][:,wrangl.t>250],2),1)[:,0]\n",
    "    norm_sub_means = np.empty(sub_means.shape)\n",
    "    for i in range(sub_means.shape[0]):\n",
    "        norm_sub_means[i] = (sub_means[i] / sum(sub_means[i]))\n",
    "    \n",
    "    return norm_sub_means"
   ]
  },
  {
   "cell_type": "markdown",
   "metadata": {},
   "source": [
    "## Set size 1vs2"
   ]
  },
  {
   "cell_type": "code",
   "execution_count": 10,
   "metadata": {},
   "outputs": [
    {
     "data": {
      "text/html": [
       "<div>\n",
       "<style scoped>\n",
       "    .dataframe tbody tr th:only-of-type {\n",
       "        vertical-align: middle;\n",
       "    }\n",
       "\n",
       "    .dataframe tbody tr th {\n",
       "        vertical-align: top;\n",
       "    }\n",
       "\n",
       "    .dataframe thead th {\n",
       "        text-align: right;\n",
       "    }\n",
       "</style>\n",
       "<table border=\"1\" class=\"dataframe\">\n",
       "  <thead>\n",
       "    <tr style=\"text-align: right;\">\n",
       "      <th></th>\n",
       "      <th>subs</th>\n",
       "      <th>feat</th>\n",
       "      <th>ss</th>\n",
       "      <th>percent_predicted</th>\n",
       "    </tr>\n",
       "  </thead>\n",
       "  <tbody>\n",
       "    <tr>\n",
       "      <th>0</th>\n",
       "      <td>0</td>\n",
       "      <td>single</td>\n",
       "      <td>Predicted 1</td>\n",
       "      <td>0.614469</td>\n",
       "    </tr>\n",
       "    <tr>\n",
       "      <th>1</th>\n",
       "      <td>1</td>\n",
       "      <td>single</td>\n",
       "      <td>Predicted 1</td>\n",
       "      <td>0.639775</td>\n",
       "    </tr>\n",
       "    <tr>\n",
       "      <th>2</th>\n",
       "      <td>2</td>\n",
       "      <td>single</td>\n",
       "      <td>Predicted 1</td>\n",
       "      <td>0.663087</td>\n",
       "    </tr>\n",
       "    <tr>\n",
       "      <th>3</th>\n",
       "      <td>3</td>\n",
       "      <td>single</td>\n",
       "      <td>Predicted 1</td>\n",
       "      <td>0.608700</td>\n",
       "    </tr>\n",
       "    <tr>\n",
       "      <th>4</th>\n",
       "      <td>4</td>\n",
       "      <td>single</td>\n",
       "      <td>Predicted 1</td>\n",
       "      <td>0.609244</td>\n",
       "    </tr>\n",
       "  </tbody>\n",
       "</table>\n",
       "</div>"
      ],
      "text/plain": [
       "   subs    feat           ss  percent_predicted\n",
       "0     0  single  Predicted 1           0.614469\n",
       "1     1  single  Predicted 1           0.639775\n",
       "2     2  single  Predicted 1           0.663087\n",
       "3     3  single  Predicted 1           0.608700\n",
       "4     4  single  Predicted 1           0.609244"
      ]
     },
     "execution_count": 10,
     "metadata": {},
     "output_type": "execute_result"
    }
   ],
   "source": [
    "# get normalized prediction rates for set sizes 1&2 in single feature and single feature to conjunction anlyses\n",
    "conj_ss12 = get_norm_sub_means(conj_conf,0)\n",
    "single_ss12 = get_norm_sub_means(sing_conf,0)\n",
    "\n",
    "# put into dataframe\n",
    "percent_predicted = np.concatenate((single_ss12[:,0],single_ss12[:,1],conj_ss12[:,0],conj_ss12[:,1]))\n",
    "feat = np.repeat(['single','conj'],40)\n",
    "ss = np.repeat(['Predicted 1','Predicted 2','Predicted 1','Predicted 2'],20)\n",
    "subs = np.tile(np.arange(single_ss12.shape[0]),4)\n",
    "\n",
    "df = pd.DataFrame()\n",
    "df['subs'] = subs\n",
    "df['feat'] = feat\n",
    "df['ss'] = ss\n",
    "df['percent_predicted'] = percent_predicted\n",
    "\n",
    "df.head()"
   ]
  },
  {
   "cell_type": "code",
   "execution_count": 11,
   "metadata": {},
   "outputs": [
    {
     "name": "stdout",
     "output_type": "stream",
     "text": [
      "Mean:\n",
      "feat    ss         \n",
      "conj    Predicted 2    0.348026\n",
      "single  Predicted 2    0.348070\n",
      "Name: percent_predicted, dtype: float64\n",
      "SD:\n",
      "feat    ss         \n",
      "conj    Predicted 2    0.121807\n",
      "single  Predicted 2    0.058905\n",
      "Name: percent_predicted, dtype: float64\n"
     ]
    }
   ],
   "source": [
    "df_2 = df[df.ss == 'Predicted 2']\n",
    "print(\"Mean:\")\n",
    "print(df_2.groupby(['feat','ss'])['percent_predicted'].mean())\n",
    "print(\"SD:\")\n",
    "print(df_2.groupby(['feat','ss'])['percent_predicted'].std())"
   ]
  },
  {
   "cell_type": "code",
   "execution_count": 12,
   "metadata": {},
   "outputs": [
    {
     "data": {
      "text/plain": [
       "Ttest_relResult(statistic=0.0016364256705570842, pvalue=0.5006443092612174)"
      ]
     },
     "execution_count": 12,
     "metadata": {},
     "output_type": "execute_result"
    }
   ],
   "source": [
    "sista.ttest_rel(\n",
    "    a=df_2[df_2.feat=='single']['percent_predicted'],\n",
    "    b=df_2[df_2.feat=='conj']['percent_predicted'],\n",
    "    alternative='less')"
   ]
  },
  {
   "cell_type": "code",
   "execution_count": 19,
   "metadata": {},
   "outputs": [
    {
     "data": {
      "text/html": [
       "<div>\n",
       "<style scoped>\n",
       "    .dataframe tbody tr th:only-of-type {\n",
       "        vertical-align: middle;\n",
       "    }\n",
       "\n",
       "    .dataframe tbody tr th {\n",
       "        vertical-align: top;\n",
       "    }\n",
       "\n",
       "    .dataframe thead th {\n",
       "        text-align: right;\n",
       "    }\n",
       "</style>\n",
       "<table border=\"1\" class=\"dataframe\">\n",
       "  <thead>\n",
       "    <tr style=\"text-align: right;\">\n",
       "      <th></th>\n",
       "      <th>T</th>\n",
       "      <th>dof</th>\n",
       "      <th>alternative</th>\n",
       "      <th>p-val</th>\n",
       "      <th>CI95%</th>\n",
       "      <th>cohen-d</th>\n",
       "      <th>BF10</th>\n",
       "      <th>power</th>\n",
       "    </tr>\n",
       "  </thead>\n",
       "  <tbody>\n",
       "    <tr>\n",
       "      <th>T-test</th>\n",
       "      <td>0.001636</td>\n",
       "      <td>19</td>\n",
       "      <td>less</td>\n",
       "      <td>0.500644</td>\n",
       "      <td>[-inf, 0.05]</td>\n",
       "      <td>0.000459</td>\n",
       "      <td>0.465</td>\n",
       "      <td>0.049796</td>\n",
       "    </tr>\n",
       "  </tbody>\n",
       "</table>\n",
       "</div>"
      ],
      "text/plain": [
       "               T  dof alternative     p-val         CI95%   cohen-d   BF10  \\\n",
       "T-test  0.001636   19        less  0.500644  [-inf, 0.05]  0.000459  0.465   \n",
       "\n",
       "           power  \n",
       "T-test  0.049796  "
      ]
     },
     "execution_count": 19,
     "metadata": {},
     "output_type": "execute_result"
    }
   ],
   "source": [
    "pingouin.bayesfactor_ttest(0.0016364256705570842,20,paired=True,alternative='less')\n",
    "pingouin.ttest(    \n",
    "    x=df_2[df_2.feat=='single']['percent_predicted'],\n",
    "    y=df_2[df_2.feat=='conj']['percent_predicted'],\n",
    "    paired=True,\n",
    "    alternative='less')"
   ]
  },
  {
   "cell_type": "code",
   "execution_count": 29,
   "metadata": {},
   "outputs": [
    {
     "data": {
      "image/png": "[encoded data removed]",
      "text/plain": [
       "<Figure size 640x480 with 1 Axes>"
      ]
     },
     "metadata": {},
     "output_type": "display_data"
    }
   ],
   "source": [
    "my_pal = {\"Predicted 1\": \"dodgerblue\", \"Predicted 2\": \"tomato\"}\n",
    "\n",
    "ax = sns.barplot(x='feat',y='percent_predicted',hue=ss,data=df,palette=my_pal)\n",
    "\n",
    "# Add some text for labels, title and custom x-axis tick labels, etc.\n",
    "plt.title('1 vs 2 classifier output for set size 1 trials',fontsize=18)\n",
    "ax.set_ylabel('Percent of trials', fontsize=14)\n",
    "ax.set_xlabel('')\n",
    "ax.set_xticklabels(['Trained single-feature\\nTested single-feature','Trained single-feature\\nTested conjunction'])\n",
    "\n",
    "ax.spines['right'].set_visible(False)\n",
    "ax.spines['top'].set_visible(False)\n",
    "ax.yaxis.set_ticks_position('left')\n",
    "ax.xaxis.set_ticks_position('bottom')\n",
    "plt.setp(ax.get_xticklabels(), fontsize=14);\n",
    "plt.setp(ax.get_yticklabels(), fontsize=14);\n",
    "leg = plt.legend(loc='lower left',fontsize=12,title='Classifier output')\n",
    "plt.setp(leg.get_title(),fontsize=12)\n",
    "\n",
    "ax.plot([.2,.2],[.75,.775],c='k')\n",
    "ax.plot([1.2,1.2],[.75,.775],c='k')\n",
    "ax.plot([.2,1.2],[.775,.775],c='k')\n",
    "ax.text(.7,.785,'n.s.',fontsize=13,ha='center')\n",
    "plt.ylim([0.01,.85])\n",
    "\n",
    "plt.savefig('output/figures/preds_dont_double_12.png',dpi=500)\n",
    "plt.savefig('output/figures/preds_dont_double_12.pdf',dpi=500)\n",
    "\n",
    "plt.show()"
   ]
  },
  {
   "cell_type": "markdown",
   "metadata": {},
   "source": [
    "## Set size 2vs4"
   ]
  },
  {
   "cell_type": "code",
   "execution_count": 20,
   "metadata": {},
   "outputs": [
    {
     "data": {
      "text/html": [
       "<div>\n",
       "<style scoped>\n",
       "    .dataframe tbody tr th:only-of-type {\n",
       "        vertical-align: middle;\n",
       "    }\n",
       "\n",
       "    .dataframe tbody tr th {\n",
       "        vertical-align: top;\n",
       "    }\n",
       "\n",
       "    .dataframe thead th {\n",
       "        text-align: right;\n",
       "    }\n",
       "</style>\n",
       "<table border=\"1\" class=\"dataframe\">\n",
       "  <thead>\n",
       "    <tr style=\"text-align: right;\">\n",
       "      <th></th>\n",
       "      <th>subs</th>\n",
       "      <th>feat</th>\n",
       "      <th>ss</th>\n",
       "      <th>percent_predicted</th>\n",
       "    </tr>\n",
       "  </thead>\n",
       "  <tbody>\n",
       "    <tr>\n",
       "      <th>0</th>\n",
       "      <td>0</td>\n",
       "      <td>single</td>\n",
       "      <td>Predicted 2</td>\n",
       "      <td>0.779744</td>\n",
       "    </tr>\n",
       "    <tr>\n",
       "      <th>1</th>\n",
       "      <td>1</td>\n",
       "      <td>single</td>\n",
       "      <td>Predicted 2</td>\n",
       "      <td>0.645969</td>\n",
       "    </tr>\n",
       "    <tr>\n",
       "      <th>2</th>\n",
       "      <td>2</td>\n",
       "      <td>single</td>\n",
       "      <td>Predicted 2</td>\n",
       "      <td>0.715119</td>\n",
       "    </tr>\n",
       "    <tr>\n",
       "      <th>3</th>\n",
       "      <td>3</td>\n",
       "      <td>single</td>\n",
       "      <td>Predicted 2</td>\n",
       "      <td>0.528667</td>\n",
       "    </tr>\n",
       "    <tr>\n",
       "      <th>4</th>\n",
       "      <td>4</td>\n",
       "      <td>single</td>\n",
       "      <td>Predicted 2</td>\n",
       "      <td>0.576794</td>\n",
       "    </tr>\n",
       "  </tbody>\n",
       "</table>\n",
       "</div>"
      ],
      "text/plain": [
       "   subs    feat           ss  percent_predicted\n",
       "0     0  single  Predicted 2           0.779744\n",
       "1     1  single  Predicted 2           0.645969\n",
       "2     2  single  Predicted 2           0.715119\n",
       "3     3  single  Predicted 2           0.528667\n",
       "4     4  single  Predicted 2           0.576794"
      ]
     },
     "execution_count": 20,
     "metadata": {},
     "output_type": "execute_result"
    }
   ],
   "source": [
    "# get normalized prediction rates for set sizes 2&4 in single feature and single feature to conjunction anlyses\n",
    "conj_ss24 = get_norm_sub_means(conj_conf,1)\n",
    "single_ss24 = get_norm_sub_means(sing_conf,1)\n",
    "\n",
    "# put into dataframe\n",
    "percent_predicted = np.concatenate((single_ss24[:,0],single_ss24[:,1],conj_ss24[:,0],conj_ss24[:,1]))\n",
    "feat = np.repeat(['single','conj'],40)\n",
    "ss = np.repeat(['Predicted 2','Predicted 4','Predicted 2','Predicted 4'],20)\n",
    "subs = np.tile(np.arange(single_ss24.shape[0]),4)\n",
    "\n",
    "df = pd.DataFrame()\n",
    "df['subs'] = subs\n",
    "df['feat'] = feat\n",
    "df['ss'] = ss\n",
    "df['percent_predicted'] = percent_predicted\n",
    "\n",
    "df.head()"
   ]
  },
  {
   "cell_type": "code",
   "execution_count": 21,
   "metadata": {},
   "outputs": [
    {
     "name": "stdout",
     "output_type": "stream",
     "text": [
      "Mean:\n",
      "feat    ss         \n",
      "conj    Predicted 4    0.322237\n",
      "single  Predicted 4    0.344683\n",
      "Name: percent_predicted, dtype: float64\n",
      "SD:\n",
      "feat    ss         \n",
      "conj    Predicted 4    0.151906\n",
      "single  Predicted 4    0.080184\n",
      "Name: percent_predicted, dtype: float64\n"
     ]
    }
   ],
   "source": [
    "df_4 = df[df.ss == 'Predicted 4']\n",
    "print(\"Mean:\")\n",
    "print(df_4.groupby(['feat','ss'])['percent_predicted'].mean())\n",
    "print(\"SD:\")\n",
    "print(df_4.groupby(['feat','ss'])['percent_predicted'].std())"
   ]
  },
  {
   "cell_type": "code",
   "execution_count": 24,
   "metadata": {},
   "outputs": [
    {
     "data": {
      "text/html": [
       "<div>\n",
       "<style scoped>\n",
       "    .dataframe tbody tr th:only-of-type {\n",
       "        vertical-align: middle;\n",
       "    }\n",
       "\n",
       "    .dataframe tbody tr th {\n",
       "        vertical-align: top;\n",
       "    }\n",
       "\n",
       "    .dataframe thead th {\n",
       "        text-align: right;\n",
       "    }\n",
       "</style>\n",
       "<table border=\"1\" class=\"dataframe\">\n",
       "  <thead>\n",
       "    <tr style=\"text-align: right;\">\n",
       "      <th></th>\n",
       "      <th>T</th>\n",
       "      <th>dof</th>\n",
       "      <th>alternative</th>\n",
       "      <th>p-val</th>\n",
       "      <th>CI95%</th>\n",
       "      <th>cohen-d</th>\n",
       "      <th>BF10</th>\n",
       "      <th>power</th>\n",
       "    </tr>\n",
       "  </thead>\n",
       "  <tbody>\n",
       "    <tr>\n",
       "      <th>T-test</th>\n",
       "      <td>0.651969</td>\n",
       "      <td>19</td>\n",
       "      <td>less</td>\n",
       "      <td>0.738885</td>\n",
       "      <td>[-inf, 0.08]</td>\n",
       "      <td>0.184804</td>\n",
       "      <td>0.562</td>\n",
       "      <td>0.007288</td>\n",
       "    </tr>\n",
       "  </tbody>\n",
       "</table>\n",
       "</div>"
      ],
      "text/plain": [
       "               T  dof alternative     p-val         CI95%   cohen-d   BF10  \\\n",
       "T-test  0.651969   19        less  0.738885  [-inf, 0.08]  0.184804  0.562   \n",
       "\n",
       "           power  \n",
       "T-test  0.007288  "
      ]
     },
     "execution_count": 24,
     "metadata": {},
     "output_type": "execute_result"
    }
   ],
   "source": [
    "pingouin.ttest(    \n",
    "    x=df_4[df_4.feat=='single']['percent_predicted'],\n",
    "    y=df_4[df_4.feat=='conj']['percent_predicted'],\n",
    "    paired=True,\n",
    "    alternative='less')"
   ]
  },
  {
   "cell_type": "code",
   "execution_count": 25,
   "metadata": {},
   "outputs": [
    {
     "data": {
      "image/png": "[encoded data removed]",
      "text/plain": [
       "<Figure size 640x480 with 1 Axes>"
      ]
     },
     "metadata": {},
     "output_type": "display_data"
    }
   ],
   "source": [
    "my_pal = {\"Predicted 2\": \"dodgerblue\", \"Predicted 4\": \"tomato\"}\n",
    "\n",
    "ax = sns.barplot(x='feat',y='percent_predicted',hue=ss,data=df,palette=my_pal)\n",
    "\n",
    "# Add some text for labels, title and custom x-axis tick labels, etc.\n",
    "plt.title('2 vs 4 classifier output for set size 2 trials',fontsize=18)\n",
    "ax.set_ylabel('Percent of trials', fontsize=14)\n",
    "ax.set_xlabel('')\n",
    "ax.set_xticklabels(['Trained single-feature\\nTested single-feature','Trained single-feature\\nTested conjunction'])\n",
    "\n",
    "ax.spines['right'].set_visible(False)\n",
    "ax.spines['top'].set_visible(False)\n",
    "ax.yaxis.set_ticks_position('left')\n",
    "ax.xaxis.set_ticks_position('bottom')\n",
    "plt.setp(ax.get_xticklabels(), fontsize=14);\n",
    "plt.setp(ax.get_yticklabels(), fontsize=14);\n",
    "leg = plt.legend(loc='lower left',fontsize=12,title='Classifier output')\n",
    "plt.setp(leg.get_title(),fontsize=12)\n",
    "\n",
    "ax.plot([.2,.2],[.75,.775],c='k')\n",
    "ax.plot([1.2,1.2],[.75,.775],c='k')\n",
    "ax.plot([.2,1.2],[.775,.775],c='k')\n",
    "ax.text(.7,.785,'n.s.',fontsize=13,ha='center')\n",
    "plt.ylim([0.01,.85])\n",
    "\n",
    "plt.savefig('output/figures/preds_dont_double_24.png',dpi=500)\n",
    "plt.savefig('output/figures/preds_dont_double_24.pdf',dpi=500)\n",
    "\n",
    "plt.show()"
   ]
  }
 ],
 "metadata": {
  "interpreter": {
   "hash": "d3a69fb0db618fbcab2c09751e112fe5c333bd7dbcd22df9aa04e19f2c5c72f9"
  },
  "kernelspec": {
   "display_name": "Python 3.8.10 64-bit ('archery': conda)",
   "name": "python3"
  },
  "language_info": {
   "codemirror_mode": {
    "name": "ipython",
    "version": 3
   },
   "file_extension": ".py",
   "mimetype": "text/x-python",
   "name": "python",
   "nbconvert_exporter": "python",
   "pygments_lexer": "ipython3",
   "version": "3.8.10"
  },
  "varInspector": {
   "cols": {
    "lenName": 16,
    "lenType": 16,
    "lenVar": 40
   },
   "kernels_config": {
    "python": {
     "delete_cmd_postfix": "",
     "delete_cmd_prefix": "del ",
     "library": "var_list.py",
     "varRefreshCmd": "print(var_dic_list())"
    },
    "r": {
     "delete_cmd_postfix": ") ",
     "delete_cmd_prefix": "rm(",
     "library": "var_list.r",
     "varRefreshCmd": "cat(var_dic_list()) "
    }
   },
   "types_to_exclude": [
    "module",
    "function",
    "builtin_function_or_method",
    "instance",
    "_Feature"
   ],
   "window_display": false
  }
 },
 "nbformat": 4,
 "nbformat_minor": 2
}
