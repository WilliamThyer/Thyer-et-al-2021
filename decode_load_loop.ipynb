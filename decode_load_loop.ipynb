{
 "cells": [
  {
   "cell_type": "code",
   "execution_count": 3,
   "metadata": {
    "ExecuteTime": {
     "end_time": "2020-05-04T16:20:08.580088Z",
     "start_time": "2020-05-04T16:20:08.361214Z"
    }
   },
   "outputs": [],
   "source": [
    "import decode_eeg\n",
    "import numpy as np\n",
    "import matplotlib.pyplot as plt\n",
    "np.random.seed(42)\n",
    "%load_ext autoreload\n",
    "%autoreload 2"
   ]
  },
  {
   "cell_type": "code",
   "execution_count": null,
   "metadata": {},
   "outputs": [],
   "source": [
    "# Classification parameters and setup\n",
    "time_window = 50\n",
    "time_step = 25\n",
    "n_splits = 1000\n",
    "trial_averages = [0,20]\n",
    "group_dict = {0:[1],1:[2],2:[3],3:[4]}\n",
    "test = False # if true, test pipeline on only 3 subjects\n",
    "experiment_names = ['1801','1901','1902']"
   ]
  },
  {
   "cell_type": "code",
   "execution_count": 1,
   "metadata": {
    "ExecuteTime": {
     "end_time": "2020-05-04T16:20:14.009916Z",
     "start_time": "2020-05-04T16:20:13.784976Z"
    },
    "tags": []
   },
   "outputs": [],
   "source": [
    "# If you want to retrain classifiers, run this cell. Otherwise go to next cell.\n",
    "\n",
    "# loop over all 3 experiments\n",
    "for experiment_name in experiment_names:\n",
    "    print(f'Experiment: {experiment_name}\\n')\n",
    "    # loop over trial bin sizes\n",
    "    for trial_average in trial_averages:\n",
    "        print(f'Trial Bin: {trial_average}\\n')\n",
    "\n",
    "        # create experiment, data wrangler, and classification objects\n",
    "        data_dir = f'./data/{experiment_name}'\n",
    "        exp = decode_eeg.Experiment(experiment_name,data_dir,test=test)\n",
    "        wrangl = decode_eeg.Wrangler(exp.info['times'],time_window,time_step,trial_average,n_splits,group_dict)\n",
    "        clfr = decode_eeg.Classification(wrangl,exp.nsub)\n",
    "\n",
    "        # loop over subjects in experiment\n",
    "        for isub in range(exp.nsub):\n",
    "            print(isub)\n",
    "\n",
    "            # load and format data\n",
    "            xdata,ydata = exp.load_eeg(isub)\n",
    "            xdata,ydata = wrangl.setup_data(xdata,ydata)\n",
    "            \n",
    "            # split data into train and test\n",
    "            for X_train_all, X_test_all, y_train, y_test in wrangl.train_test_split(xdata,ydata):\n",
    "                y_test_shuffle = np.random.permutation(y_test)\n",
    "                # roll over trial timecourse\n",
    "                for X_train, X_test in wrangl.roll_over_time(X_train_all, X_test_all):\n",
    "                    # do classification\n",
    "                    clfr.decode(X_train,X_test,y_train,y_test,y_test_shuffle,isub)\n",
    "\n",
    "        # create classification interpreter object\n",
    "        interp = decode_eeg.Interpreter(clfr, subtitle = f'{experiment_name}_trialbin{str(trial_average)}_')\n",
    "        interp.save_results()\n",
    "\n",
    "        # plot classification results\n",
    "        interp.plot_acc(significance_testing=True,savefig=0)"
   ]
  },
  {
   "source": [
    "## Loading previous classification results"
   ],
   "cell_type": "markdown",
   "metadata": {}
  },
  {
   "cell_type": "code",
   "execution_count": 4,
   "metadata": {},
   "outputs": [],
   "source": [
    "# Set up interp object and load results. Or uncomment interp.save_results if you just reran classification and want to save results.\n",
    "interp = decode_eeg.Interpreter()\n",
    "# interp.load_results()\n",
    "# interp.save_results()"
   ]
  },
  {
   "cell_type": "code",
   "execution_count": null,
   "metadata": {},
   "outputs": [],
   "source": [
    "# plot classification results\n",
    "interp.plot_acc(significance_testing=True,savefig=0)"
   ]
  }
 ],
 "metadata": {
  "kernelspec": {
   "name": "python3810jvsc74a57bd0445a7d8f6d52d527c9adf9e4c9f441f335535657c54338920c1f211bfe1bc8b8",
   "display_name": "Python 3.8.10 64-bit ('archery': conda)"
  },
  "language_info": {
   "codemirror_mode": {
    "name": "ipython",
    "version": 3
   },
   "file_extension": ".py",
   "mimetype": "text/x-python",
   "name": "python",
   "nbconvert_exporter": "python",
   "pygments_lexer": "ipython3",
   "version": "3.8.10"
  },
  "varInspector": {
   "cols": {
    "lenName": 16,
    "lenType": 16,
    "lenVar": 40
   },
   "kernels_config": {
    "python": {
     "delete_cmd_postfix": "",
     "delete_cmd_prefix": "del ",
     "library": "var_list.py",
     "varRefreshCmd": "print(var_dic_list())"
    },
    "r": {
     "delete_cmd_postfix": ") ",
     "delete_cmd_prefix": "rm(",
     "library": "var_list.r",
     "varRefreshCmd": "cat(var_dic_list()) "
    }
   },
   "types_to_exclude": [
    "module",
    "function",
    "builtin_function_or_method",
    "instance",
    "_Feature"
   ],
   "window_display": false
  }
 },
 "nbformat": 4,
 "nbformat_minor": 2
}