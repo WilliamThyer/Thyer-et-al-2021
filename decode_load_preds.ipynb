{
 "cells": [
  {
   "cell_type": "code",
   "execution_count": 1,
   "metadata": {
    "ExecuteTime": {
     "end_time": "2020-04-27T16:04:22.293518Z",
     "start_time": "2020-04-27T16:04:21.080260Z"
    }
   },
   "outputs": [],
   "source": [
    "import pandas as pd\n",
    "import decode_eeg\n",
    "import numpy as np\n",
    "import matplotlib.pyplot as plt\n",
    "import seaborn as sns\n",
    "import scipy.stats as sista\n",
    "import pingouin\n",
    "\n",
    "np.random.seed(42)\n",
    "%load_ext autoreload\n",
    "%autoreload 2"
   ]
  },
  {
   "cell_type": "code",
   "execution_count": 2,
   "metadata": {
    "ExecuteTime": {
     "end_time": "2020-04-27T16:04:22.894385Z",
     "start_time": "2020-04-27T16:04:22.740468Z"
    }
   },
   "outputs": [],
   "source": [
    "# Experiment setup\n",
    "experiment_name1 = '1801'\n",
    "experiment_name2 = '1901'\n",
    "experiment_name3 = '1902'\n",
    "data_dir1 = f'./data/{experiment_name1}'\n",
    "data_dir2 = f'./data/{experiment_name2}'\n",
    "data_dir3 = f'./data/{experiment_name3}'\n",
    "exp1 = decode_eeg.Experiment(experiment_name1,data_dir1)\n",
    "exp2 = decode_eeg.Experiment(experiment_name2,data_dir2)\n",
    "exp3 = decode_eeg.Experiment(experiment_name3,data_dir3)"
   ]
  },
  {
   "cell_type": "markdown",
   "metadata": {},
   "source": [
    "## Single feature to conjunction"
   ]
  },
  {
   "cell_type": "code",
   "execution_count": 3,
   "metadata": {
    "ExecuteTime": {
     "end_time": "2020-04-27T16:04:23.565993Z",
     "start_time": "2020-04-27T16:04:23.344124Z"
    }
   },
   "outputs": [],
   "source": [
    "# Classification parameters and setup\n",
    "time_window = 50\n",
    "time_step = 25\n",
    "trial_average = 20\n",
    "n_splits = 1000\n",
    "group_dict_list =  [{0:[1],1:[2]},{0:[2],1:[4]}]\n",
    "wrangl = decode_eeg.Wrangler(exp1.info['times'],time_window,time_step,trial_average,n_splits,group_dict_list=group_dict_list)\n",
    "\n",
    "sync_s2c = decode_eeg.Experiment_Syncer(experiments=[exp1,exp2,exp3],\n",
    "                                    wrangler = wrangl,\n",
    "                                    train_group = [experiment_name1,experiment_name2])\n",
    "\n",
    "clfr = decode_eeg.Classification(wrangl,sync_s2c.nsub,num_labels=2)"
   ]
  },
  {
   "cell_type": "code",
   "execution_count": 4,
   "metadata": {
    "ExecuteTime": {
     "end_time": "2020-04-23T18:47:35.520690Z",
     "start_time": "2020-04-23T18:33:49.455219Z"
    }
   },
   "outputs": [
    {
     "name": "stdout",
     "output_type": "stream",
     "text": [
      "0\n",
      "1\n",
      "2\n",
      "3\n",
      "4\n",
      "5\n",
      "6\n",
      "7\n",
      "8\n",
      "9\n",
      "10\n",
      "11\n",
      "12\n",
      "13\n",
      "14\n",
      "15\n",
      "16\n",
      "17\n",
      "18\n",
      "19\n"
     ]
    }
   ],
   "source": [
    "# If you want to retrain classifiers, run this cell. Otherwise run next cell.\n",
    "\n",
    "clfr.acc = np.zeros((clfr.nsub,len(group_dict_list),np.size(clfr.t),clfr.n_splits))*np.nan\n",
    "clfr.acc_shuff = np.zeros((clfr.nsub,len(group_dict_list),np.size(clfr.t),clfr.n_splits))*np.nan\n",
    "clfr.conf_mat = np.zeros((clfr.nsub,len(group_dict_list),np.size(clfr.t),clfr.n_splits,clfr.num_labels,clfr.num_labels))*np.nan\n",
    "\n",
    "for isub,sub in enumerate(sync_s2c.matched_ids):\n",
    "    print(isub)\n",
    "    xdata_all,ydata_all = sync_s2c.load_eeg(sub)\n",
    "    \n",
    "    # Runs classification with 1vs2 and then 2vs4, also handles trial binning\n",
    "    for xdata,ydata in sync_s2c.pairwise(xdata_all,ydata_all):\n",
    "        xdata,ydata = sync_s2c.balance_labels(xdata,ydata)\n",
    "        xdata,ydata = sync_s2c.average_trials(xdata,ydata)\n",
    "        \n",
    "        # Splits data into train and test based on sync.train_group\n",
    "        xdata_train,xdata_test,ydata_train,ydata_test = sync_s2c.group_data(xdata,ydata)\n",
    "        \n",
    "        # Cross validation\n",
    "        for X_train_all, X_test_all, y_train, y_test in wrangl.train_test_custom_split(xdata_train,xdata_test,ydata_train,ydata_test):\n",
    "            X_test_all, y_test = wrangl.balance_labels(X_test_all,y_test)\n",
    "            y_test_shuffle = np.random.permutation(y_test)\n",
    "            for X_train, X_test in wrangl.roll_over_time(X_train_all, X_test_all):\n",
    "                    clfr.decode_pairwise(X_train,X_test,y_train,y_test,y_test_shuffle,isub)\n",
    "\n",
    "# Set up interp object and save results.\n",
    "interp_s2c = decode_eeg.Interpreter(clfr, subtitle = f'single_feature_to_conj_set_size_trialbin{trial_average}_')\n",
    "interp_s2c.matched_ids = sync_s2c.matched_ids\n",
    "interp_s2c.save_results(additional_values=['matched_ids'])"
   ]
  },
  {
   "cell_type": "code",
   "execution_count": 4,
   "metadata": {
    "ExecuteTime": {
     "end_time": "2020-04-27T16:04:46.779892Z",
     "start_time": "2020-04-27T16:04:46.471835Z"
    }
   },
   "outputs": [],
   "source": [
    "# Set up interp object and load pre-existing results. Skip if you ran previous cell.\n",
    "interp_s2c = decode_eeg.Interpreter()\n",
    "interp_s2c.load_results('single_feature_to_conj_set_size_trialbin20.pickle')"
   ]
  },
  {
   "cell_type": "markdown",
   "metadata": {},
   "source": [
    "## Single feature to single feature"
   ]
  },
  {
   "cell_type": "code",
   "execution_count": 5,
   "metadata": {},
   "outputs": [],
   "source": [
    "# Classification parameters and setup\n",
    "time_window = 50\n",
    "time_step = 25\n",
    "trial_average = 20\n",
    "n_splits = 1000\n",
    "group_dict_list =  [{0:[1],1:[2]},{0:[2],1:[4]}]\n",
    "wrangl = decode_eeg.Wrangler(exp1.info['times'],time_window,time_step,trial_average,n_splits,group_dict_list=group_dict_list)\n",
    "\n",
    "sync_s2s = decode_eeg.Experiment_Syncer(experiments=[exp1,exp2],\n",
    "                                    wrangler = wrangl,\n",
    "                                    train_group = [experiment_name1,experiment_name2])\n",
    "\n",
    "clfr = decode_eeg.Classification(wrangl,sync_s2s.nsub,num_labels=2)"
   ]
  },
  {
   "cell_type": "code",
   "execution_count": 6,
   "metadata": {},
   "outputs": [
    {
     "name": "stdout",
     "output_type": "stream",
     "text": [
      "0\n",
      "1\n",
      "2\n",
      "3\n",
      "4\n",
      "5\n",
      "6\n",
      "7\n",
      "8\n",
      "9\n",
      "10\n",
      "11\n",
      "12\n",
      "13\n",
      "14\n",
      "15\n",
      "16\n",
      "17\n",
      "18\n",
      "19\n",
      "20\n",
      "21\n",
      "22\n",
      "23\n"
     ]
    }
   ],
   "source": [
    "# If you want to retrain classifiers, run this cell. Otherwise run next cell.\n",
    "\n",
    "clfr.acc = np.zeros((clfr.nsub,len(group_dict_list),np.size(clfr.t),clfr.n_splits))*np.nan\n",
    "clfr.acc_shuff = np.zeros((clfr.nsub,len(group_dict_list),np.size(clfr.t),clfr.n_splits))*np.nan\n",
    "clfr.conf_mat = np.zeros((clfr.nsub,len(group_dict_list),np.size(clfr.t),clfr.n_splits,clfr.num_labels,clfr.num_labels))*np.nan\n",
    "\n",
    "for isub,sub in enumerate(sync_s2s.matched_ids):\n",
    "    print(isub)\n",
    "    xdata_all,ydata_all = sync_s2s.load_eeg(sub)\n",
    "    \n",
    "    # Runs classification with 1vs2 and then 2vs4, also handles trial binning\n",
    "    for xdata,ydata in sync_s2s.pairwise(xdata_all,ydata_all):\n",
    "        xdata,ydata = sync_s2s.balance_labels(xdata,ydata)\n",
    "        xdata,ydata = sync_s2s.average_trials(xdata,ydata)\n",
    "        \n",
    "        # Splits data into train and test based on sync.train_group\n",
    "        xdata,ydata = sync_s2s.group_data(xdata,ydata)\n",
    "\n",
    "        # Cross validation\n",
    "        for X_train_all, X_test_all, y_train, y_test in wrangl.train_test_split(xdata,ydata):\n",
    "            X_test_all, y_test = wrangl.balance_labels(X_test_all,y_test)\n",
    "            y_test_shuffle = np.random.permutation(y_test)\n",
    "            for X_train, X_test in wrangl.roll_over_time(X_train_all, X_test_all):\n",
    "                    clfr.decode_pairwise(X_train,X_test,y_train,y_test,y_test_shuffle,isub)\n",
    "\n",
    "# Set up interp object and save results. \n",
    "interp_s2s = decode_eeg.Interpreter(clfr, subtitle = f'single_feature_set_size_trialbin{trial_average}_')\n",
    "interp_s2s.matched_ids = sync_s2s.matched_ids\n",
    "interp_s2s.save_results(additional_values=['matched_ids'])"
   ]
  },
  {
   "cell_type": "code",
   "execution_count": 6,
   "metadata": {},
   "outputs": [],
   "source": [
    "# Set up interp object and load pre-existing results. Skip if you ran previous cell.\n",
    "interp_s2s = decode_eeg.Interpreter()\n",
    "interp_s2s.load_results('single_feature_set_size_trialbin20.pickle')"
   ]
  },
  {
   "cell_type": "markdown",
   "metadata": {},
   "source": [
    "## Prepping conf mat data"
   ]
  },
  {
   "cell_type": "code",
   "execution_count": 7,
   "metadata": {},
   "outputs": [],
   "source": [
    "# get confusions matrices, and drop subjects who aren't in both datasets\n",
    "conj_conf = interp_s2c.conf_mat\n",
    "sing_conf = interp_s2s.conf_mat\n",
    "remove_subs_idx = np.isin(interp_s2s.matched_ids,interp_s2c.matched_ids)\n",
    "sing_conf = sing_conf[remove_subs_idx]"
   ]
  },
  {
   "cell_type": "code",
   "execution_count": 18,
   "metadata": {},
   "outputs": [
    {
     "data": {
      "text/plain": [
       "(20, 2, 59, 1000, 2, 2)"
      ]
     },
     "execution_count": 18,
     "metadata": {},
     "output_type": "execute_result"
    }
   ],
   "source": [
    "# confusion matrices shape: [subject, ss pair, timepoint, fold, true ss, pred ss]\n",
    "sing_conf.shape"
   ]
  },
  {
   "cell_type": "code",
   "execution_count": 10,
   "metadata": {},
   "outputs": [],
   "source": [
    "def get_norm_sub_means(conf,ss_pair,ss):\n",
    "    ''' Gets normalized predictions. Percent of trials of given condition predicted as 1 or 2.\n",
    "        *This function is a bit confusing, so you should walk through it step by step.*\n",
    "        \n",
    "        Input:\n",
    "        conf: confusion matrix [subject, ss pair, timepoint, fold, ss, ss]\n",
    "        ss_pair: conf holds confusion matrices for 1vs2 (0th index) and 2vs4 (1st index)\n",
    "        ss: grab predictions for the smaller or larger set size within the ss_pair 1/2 or 2/4\n",
    "        Output:\n",
    "        norm_sub_means: normalized confusion matrix for ss_pair and ss [subject, predicted ss]\n",
    "    '''\n",
    "    ss_pair_dict = {'1vs2':0,'2vs4':1}\n",
    "    ss_pair_ss_dict = {'1vs2':{1:0,2:1},'2vs4':{2:0,4:1}}\n",
    "    ss_pair_idx = ss_pair_dict[ss_pair]\n",
    "    ss_idx = ss_pair_ss_dict[ss_pair][ss]\n",
    "\n",
    "    sub_means = np.mean(np.mean(conf[:,ss_pair_idx][:,wrangl.t>250],2),1)[:,ss_idx]\n",
    "    norm_sub_means = np.empty(sub_means.shape)\n",
    "    for i in range(sub_means.shape[0]):\n",
    "        norm_sub_means[i] = (sub_means[i] / sum(sub_means[i]))\n",
    "    \n",
    "    return norm_sub_means"
   ]
  },
  {
   "cell_type": "markdown",
   "metadata": {},
   "source": [
    "## Set size 1vs2"
   ]
  },
  {
   "cell_type": "code",
   "execution_count": 334,
   "metadata": {},
   "outputs": [],
   "source": [
    "sing1 = get_norm_sub_means(sing_conf,ss_pair='1vs2',ss=1)\n",
    "sing2 = get_norm_sub_means(sing_conf,ss_pair='1vs2',ss=2)\n",
    "conj1 = get_norm_sub_means(conj_conf,ss_pair='1vs2',ss=1)\n",
    "\n",
    "sing1_percent1 = np.mean(sing1,0)[0]\n",
    "sing2_percent1 = np.mean(sing2,0)[0]\n",
    "conj1_percent1 = np.mean(conj1,0)[0]"
   ]
  },
  {
   "cell_type": "code",
   "execution_count": 335,
   "metadata": {},
   "outputs": [],
   "source": [
    "data = np.concatenate([sing1[:,0],sing2[:,0],conj1[:,0]]).T\n",
    "labels = np.repeat(['1 single-feature','2 single-feature','1 conjunction'],sing1.shape[0])\n",
    "data_for_plotting = pd.DataFrame({'data':data,'labels':labels})"
   ]
  },
  {
   "cell_type": "code",
   "execution_count": 326,
   "metadata": {},
   "outputs": [
    {
     "data": {
      "text/html": [
       "<div>\n",
       "<style scoped>\n",
       "    .dataframe tbody tr th:only-of-type {\n",
       "        vertical-align: middle;\n",
       "    }\n",
       "\n",
       "    .dataframe tbody tr th {\n",
       "        vertical-align: top;\n",
       "    }\n",
       "\n",
       "    .dataframe thead th {\n",
       "        text-align: right;\n",
       "    }\n",
       "</style>\n",
       "<table border=\"1\" class=\"dataframe\">\n",
       "  <thead>\n",
       "    <tr style=\"text-align: right;\">\n",
       "      <th></th>\n",
       "      <th>data</th>\n",
       "    </tr>\n",
       "    <tr>\n",
       "      <th>labels</th>\n",
       "      <th></th>\n",
       "    </tr>\n",
       "  </thead>\n",
       "  <tbody>\n",
       "    <tr>\n",
       "      <th>1 conjunction</th>\n",
       "      <td>0.65</td>\n",
       "    </tr>\n",
       "    <tr>\n",
       "      <th>1 single-feature</th>\n",
       "      <td>0.65</td>\n",
       "    </tr>\n",
       "    <tr>\n",
       "      <th>2 single-feature</th>\n",
       "      <td>0.35</td>\n",
       "    </tr>\n",
       "  </tbody>\n",
       "</table>\n",
       "</div>"
      ],
      "text/plain": [
       "                  data\n",
       "labels                \n",
       "1 conjunction     0.65\n",
       "1 single-feature  0.65\n",
       "2 single-feature  0.35"
      ]
     },
     "execution_count": 326,
     "metadata": {},
     "output_type": "execute_result"
    }
   ],
   "source": [
    "data_for_plotting.groupby('labels').mean().round(2)"
   ]
  },
  {
   "cell_type": "code",
   "execution_count": 302,
   "metadata": {},
   "outputs": [
    {
     "data": {
      "text/html": [
       "<div>\n",
       "<style scoped>\n",
       "    .dataframe tbody tr th:only-of-type {\n",
       "        vertical-align: middle;\n",
       "    }\n",
       "\n",
       "    .dataframe tbody tr th {\n",
       "        vertical-align: top;\n",
       "    }\n",
       "\n",
       "    .dataframe thead th {\n",
       "        text-align: right;\n",
       "    }\n",
       "</style>\n",
       "<table border=\"1\" class=\"dataframe\">\n",
       "  <thead>\n",
       "    <tr style=\"text-align: right;\">\n",
       "      <th></th>\n",
       "      <th>data</th>\n",
       "    </tr>\n",
       "    <tr>\n",
       "      <th>labels</th>\n",
       "      <th></th>\n",
       "    </tr>\n",
       "  </thead>\n",
       "  <tbody>\n",
       "    <tr>\n",
       "      <th>1 conjunction</th>\n",
       "      <td>0.12</td>\n",
       "    </tr>\n",
       "    <tr>\n",
       "      <th>1 single-feature</th>\n",
       "      <td>0.06</td>\n",
       "    </tr>\n",
       "    <tr>\n",
       "      <th>2 single-feature</th>\n",
       "      <td>0.07</td>\n",
       "    </tr>\n",
       "  </tbody>\n",
       "</table>\n",
       "</div>"
      ],
      "text/plain": [
       "                  data\n",
       "labels                \n",
       "1 conjunction     0.12\n",
       "1 single-feature  0.06\n",
       "2 single-feature  0.07"
      ]
     },
     "execution_count": 302,
     "metadata": {},
     "output_type": "execute_result"
    }
   ],
   "source": [
    "data_for_plotting.groupby('labels').std().round(2)"
   ]
  },
  {
   "cell_type": "code",
   "execution_count": 303,
   "metadata": {},
   "outputs": [
    {
     "data": {
      "text/html": [
       "<div>\n",
       "<style scoped>\n",
       "    .dataframe tbody tr th:only-of-type {\n",
       "        vertical-align: middle;\n",
       "    }\n",
       "\n",
       "    .dataframe tbody tr th {\n",
       "        vertical-align: top;\n",
       "    }\n",
       "\n",
       "    .dataframe thead th {\n",
       "        text-align: right;\n",
       "    }\n",
       "</style>\n",
       "<table border=\"1\" class=\"dataframe\">\n",
       "  <thead>\n",
       "    <tr style=\"text-align: right;\">\n",
       "      <th></th>\n",
       "      <th>T</th>\n",
       "      <th>dof</th>\n",
       "      <th>alternative</th>\n",
       "      <th>p-val</th>\n",
       "      <th>CI95%</th>\n",
       "      <th>cohen-d</th>\n",
       "      <th>BF10</th>\n",
       "      <th>power</th>\n",
       "    </tr>\n",
       "  </thead>\n",
       "  <tbody>\n",
       "    <tr>\n",
       "      <th>T-test</th>\n",
       "      <td>-0.002</td>\n",
       "      <td>19</td>\n",
       "      <td>two-sided</td>\n",
       "      <td>0.999</td>\n",
       "      <td>[-0.06, 0.06]</td>\n",
       "      <td>0.0</td>\n",
       "      <td>0.232</td>\n",
       "      <td>0.05</td>\n",
       "    </tr>\n",
       "  </tbody>\n",
       "</table>\n",
       "</div>"
      ],
      "text/plain": [
       "            T  dof alternative  p-val          CI95%  cohen-d   BF10  power\n",
       "T-test -0.002   19   two-sided  0.999  [-0.06, 0.06]      0.0  0.232   0.05"
      ]
     },
     "execution_count": 303,
     "metadata": {},
     "output_type": "execute_result"
    }
   ],
   "source": [
    "# 1 single feature vs 1 conjunction\n",
    "pingouin.ttest(    \n",
    "    x=data_for_plotting[data_for_plotting['labels']=='1 single-feature']['data'],\n",
    "    y=data_for_plotting[data_for_plotting['labels']=='1 conjunction']['data'],\n",
    "    paired=True).round(3)"
   ]
  },
  {
   "cell_type": "code",
   "execution_count": 304,
   "metadata": {},
   "outputs": [
    {
     "data": {
      "text/html": [
       "<div>\n",
       "<style scoped>\n",
       "    .dataframe tbody tr th:only-of-type {\n",
       "        vertical-align: middle;\n",
       "    }\n",
       "\n",
       "    .dataframe tbody tr th {\n",
       "        vertical-align: top;\n",
       "    }\n",
       "\n",
       "    .dataframe thead th {\n",
       "        text-align: right;\n",
       "    }\n",
       "</style>\n",
       "<table border=\"1\" class=\"dataframe\">\n",
       "  <thead>\n",
       "    <tr style=\"text-align: right;\">\n",
       "      <th></th>\n",
       "      <th>T</th>\n",
       "      <th>dof</th>\n",
       "      <th>alternative</th>\n",
       "      <th>p-val</th>\n",
       "      <th>CI95%</th>\n",
       "      <th>cohen-d</th>\n",
       "      <th>BF10</th>\n",
       "      <th>power</th>\n",
       "    </tr>\n",
       "  </thead>\n",
       "  <tbody>\n",
       "    <tr>\n",
       "      <th>T-test</th>\n",
       "      <td>-9.014</td>\n",
       "      <td>19</td>\n",
       "      <td>two-sided</td>\n",
       "      <td>0.0</td>\n",
       "      <td>[-0.37, -0.23]</td>\n",
       "      <td>3.086</td>\n",
       "      <td>4.944e+05</td>\n",
       "      <td>1.0</td>\n",
       "    </tr>\n",
       "  </tbody>\n",
       "</table>\n",
       "</div>"
      ],
      "text/plain": [
       "            T  dof alternative  p-val           CI95%  cohen-d       BF10  \\\n",
       "T-test -9.014   19   two-sided    0.0  [-0.37, -0.23]    3.086  4.944e+05   \n",
       "\n",
       "        power  \n",
       "T-test    1.0  "
      ]
     },
     "execution_count": 304,
     "metadata": {},
     "output_type": "execute_result"
    }
   ],
   "source": [
    "# 2 single feature vs 1 conjunction\n",
    "pingouin.ttest(    \n",
    "    x=data_for_plotting[data_for_plotting['labels']=='2 single-feature']['data'],\n",
    "    y=data_for_plotting[data_for_plotting['labels']=='1 conjunction']['data'],\n",
    "    paired=True).round(3)"
   ]
  },
  {
   "cell_type": "code",
   "execution_count": 355,
   "metadata": {},
   "outputs": [
    {
     "data": {
      "image/png": "[encoded data removed]",
      "text/plain": [
       "<Figure size 432x288 with 1 Axes>"
      ]
     },
     "metadata": {},
     "output_type": "display_data"
    }
   ],
   "source": [
    "sns.set(font_scale=1.2)\n",
    "sns.set_style(\"whitegrid\")\n",
    "\n",
    "sns.barplot(x=[0,1,2], y=[1,1,1], color='tomato')\n",
    "ax = sns.barplot(x=labels,y=data,data=data_for_plotting,color='dodgerblue', capsize=.05)\n",
    "\n",
    "# Add some text for labels, title and custom x-axis tick labels, etc.\n",
    "plt.title('Actual mvLoad predictions', fontsize = 18)\n",
    "ax.set_ylabel('Proportion of trials')\n",
    "ax.set_xlabel('Condition tested')\n",
    "\n",
    "ax.spines['right'].set_visible(False)\n",
    "ax.spines['top'].set_visible(False)\n",
    "ax.yaxis.set_ticks_position('left')\n",
    "ax.xaxis.set_ticks_position('bottom')\n",
    "\n",
    "ax.text(.01,.3,'Load 1',fontsize=25,c='w',ha='center');\n",
    "ax.text(1+.01,.12,'Load 1',fontsize=25,c='w',ha='center');\n",
    "ax.text(2+.01,.3,'Load 1',fontsize=25,c='w',ha='center');\n",
    "\n",
    "ax.text(.01,.8,'Load 2',fontsize=25,c='w',ha='center');\n",
    "ax.text(1+.01,.625,'Load 2',fontsize=25,c='w',ha='center');\n",
    "ax.text(2+.01,.8,'Load 2',fontsize=25,c='w',ha='center');\n",
    "\n",
    "plt.savefig('output/figures/mvload_preds_12_for_edits.pdf',dpi=500,bbox_inches='tight')\n",
    "\n",
    "# statistical annotation\n",
    "stat_y,stat_h = 1.05, .05\n",
    "plt.plot([1, 1, 2, 2], [stat_y,stat_y+stat_h,stat_y+stat_h,stat_y], lw=1.5, c='k')\n",
    "plt.text(1.5, stat_y+stat_h-.04, \"***\", ha='center', va='bottom', color='k', fontsize=20)\n",
    "\n",
    "stat_y,stat_h = 1.15, .05\n",
    "plt.plot([0, 0, 2, 2], [stat_y,stat_y+stat_h,stat_y+stat_h,stat_y], lw=1.5, c='k')\n",
    "plt.text(1, stat_y+stat_h+.013, 'n.s.', ha='center', va='bottom', color='k', fontsize=12)\n",
    "\n",
    "plt.yticks(np.arange(0,1.01,.2));\n",
    "plt.savefig('output/figures/mvload_preds_12.png',dpi=500,bbox_inches='tight')\n",
    "plt.savefig('output/figures/mvload_preds_12.pdf',dpi=500,bbox_inches='tight')"
   ]
  },
  {
   "cell_type": "markdown",
   "metadata": {},
   "source": [
    "## Models for comparison"
   ]
  },
  {
   "cell_type": "code",
   "execution_count": 356,
   "metadata": {},
   "outputs": [
    {
     "data": {
      "text/html": [
       "<div>\n",
       "<style scoped>\n",
       "    .dataframe tbody tr th:only-of-type {\n",
       "        vertical-align: middle;\n",
       "    }\n",
       "\n",
       "    .dataframe tbody tr th {\n",
       "        vertical-align: top;\n",
       "    }\n",
       "\n",
       "    .dataframe thead th {\n",
       "        text-align: right;\n",
       "    }\n",
       "</style>\n",
       "<table border=\"1\" class=\"dataframe\">\n",
       "  <thead>\n",
       "    <tr style=\"text-align: right;\">\n",
       "      <th></th>\n",
       "      <th>labels</th>\n",
       "      <th>data</th>\n",
       "    </tr>\n",
       "  </thead>\n",
       "  <tbody>\n",
       "    <tr>\n",
       "      <th>0</th>\n",
       "      <td>1 conjunction</td>\n",
       "      <td>0.350003</td>\n",
       "    </tr>\n",
       "    <tr>\n",
       "      <th>1</th>\n",
       "      <td>1 single-feature</td>\n",
       "      <td>0.651930</td>\n",
       "    </tr>\n",
       "    <tr>\n",
       "      <th>2</th>\n",
       "      <td>2 single-feature</td>\n",
       "      <td>0.350003</td>\n",
       "    </tr>\n",
       "  </tbody>\n",
       "</table>\n",
       "</div>"
      ],
      "text/plain": [
       "             labels      data\n",
       "0     1 conjunction  0.350003\n",
       "1  1 single-feature  0.651930\n",
       "2  2 single-feature  0.350003"
      ]
     },
     "execution_count": 356,
     "metadata": {},
     "output_type": "execute_result"
    }
   ],
   "source": [
    "feature_model = data_for_plotting.groupby('labels').mean()\n",
    "pointer_model = data_for_plotting.groupby('labels').mean().reset_index()\n",
    "\n",
    "feature_model.loc['1 conjunction','data'] = feature_model.loc['2 single-feature','data']\n",
    "pointer_model.loc['1 conjunction','data'] = feature_model.loc['1 single-feature','data']\n",
    "\n",
    "feature_model = feature_model.reset_index()\n",
    "pointer_model = pointer_model.reset_index()\n",
    "feature_model"
   ]
  },
  {
   "cell_type": "code",
   "execution_count": 362,
   "metadata": {},
   "outputs": [
    {
     "data": {
      "image/png": "[encoded data removed]",
      "text/plain": [
       "<Figure size 432x288 with 1 Axes>"
      ]
     },
     "metadata": {},
     "output_type": "display_data"
    }
   ],
   "source": [
    "sns.barplot(x=[0,1,2], y=[1,1,1], color='tomato')\n",
    "ax = sns.barplot(x='labels',y='data',data=feature_model,color='dodgerblue', capsize=.05, order=['1 single-feature','2 single-feature','1 conjunction'])\n",
    "\n",
    "# Add some text for labels, title and custom x-axis tick labels, etc.\n",
    "plt.title('Feature-load hypothesis', fontsize = 18)\n",
    "ax.set_ylabel('Proportion of trials')\n",
    "ax.set_xlabel('Condition tested')\n",
    "\n",
    "ax.spines['right'].set_visible(False)\n",
    "ax.spines['top'].set_visible(False)\n",
    "ax.yaxis.set_ticks_position('left')\n",
    "ax.xaxis.set_ticks_position('bottom')\n",
    "\n",
    "ax.text(.01,.3,'Load 1',fontsize=25,c='w',ha='center');\n",
    "ax.text(1+.01,.12,'Load 1',fontsize=25,c='w',ha='center');\n",
    "ax.text(2+.01,.12,'Load 1',fontsize=25,c='w',ha='center');\n",
    "\n",
    "ax.text(.01,.8,'Load 2',fontsize=25,c='w',ha='center');\n",
    "ax.text(1+.01,.625,'Load 2',fontsize=25,c='w',ha='center');\n",
    "ax.text(2+.01,.625,'Load 2',fontsize=25,c='w',ha='center');\n",
    "\n",
    "plt.savefig('output/figures/feature_preds_12.png',dpi=500,bbox_inches='tight')\n",
    "plt.savefig('output/figures/feature_preds_12.pdf',dpi=500,bbox_inches='tight')"
   ]
  },
  {
   "cell_type": "code",
   "execution_count": 363,
   "metadata": {},
   "outputs": [
    {
     "data": {
      "image/png": "[encoded data removed]",
      "text/plain": [
       "<Figure size 432x288 with 1 Axes>"
      ]
     },
     "metadata": {},
     "output_type": "display_data"
    }
   ],
   "source": [
    "sns.barplot(x=[0,1,2], y=[1,1,1], color='tomato')\n",
    "ax = sns.barplot(x='labels',y='data',data=pointer_model,color='dodgerblue', capsize=.05, order=['1 single-feature','2 single-feature','1 conjunction'])\n",
    "\n",
    "# Add some text for labels, title and custom x-axis tick labels, etc.\n",
    "plt.title('Content-independent pointer hypothesis', fontsize = 18)\n",
    "ax.set_ylabel('Proportion of trials')\n",
    "ax.set_xlabel('Condition tested')\n",
    "\n",
    "ax.spines['right'].set_visible(False)\n",
    "ax.spines['top'].set_visible(False)\n",
    "ax.yaxis.set_ticks_position('left')\n",
    "ax.xaxis.set_ticks_position('bottom')\n",
    "\n",
    "ax.text(.01,.3,'Load 1',fontsize=25,c='w',ha='center');\n",
    "ax.text(1+.01,.12,'Load 1',fontsize=25,c='w',ha='center');\n",
    "ax.text(2+.01,.3,'Load 1',fontsize=25,c='w',ha='center');\n",
    "\n",
    "ax.text(.01,.8,'Load 2',fontsize=25,c='w',ha='center');\n",
    "ax.text(1+.01,.625,'Load 2',fontsize=25,c='w',ha='center');\n",
    "ax.text(2+.01,.8,'Load 2',fontsize=25,c='w',ha='center');\n",
    "\n",
    "plt.savefig('output/figures/pointer_preds_12.png',dpi=500,bbox_inches='tight')\n",
    "plt.savefig('output/figures/pointer_preds_12.pdf',dpi=500,bbox_inches='tight')"
   ]
  },
  {
   "cell_type": "markdown",
   "metadata": {},
   "source": [
    "## Set size 2vs4"
   ]
  },
  {
   "cell_type": "code",
   "execution_count": 364,
   "metadata": {},
   "outputs": [],
   "source": [
    "sing2 = get_norm_sub_means(sing_conf,ss_pair='2vs4',ss=2)\n",
    "sing4 = get_norm_sub_means(sing_conf,ss_pair='2vs4',ss=4)\n",
    "conj2 = get_norm_sub_means(conj_conf,ss_pair='2vs4',ss=2)\n",
    "\n",
    "sing2_percent1 = np.mean(sing2,0)[0]\n",
    "sing4_percent1 = np.mean(sing4,0)[0]\n",
    "conj2_percent1 = np.mean(conj2,0)[0]"
   ]
  },
  {
   "cell_type": "code",
   "execution_count": 365,
   "metadata": {},
   "outputs": [],
   "source": [
    "data = np.concatenate([sing2[:,0],sing4[:,0],conj2[:,0]]).T\n",
    "labels = np.repeat(['2 single-feature','4 single-feature','2 conjunction'],sing2.shape[0])\n",
    "data_for_plotting = pd.DataFrame({'data':data,'labels':labels})"
   ]
  },
  {
   "cell_type": "code",
   "execution_count": 366,
   "metadata": {},
   "outputs": [
    {
     "data": {
      "text/html": [
       "<div>\n",
       "<style scoped>\n",
       "    .dataframe tbody tr th:only-of-type {\n",
       "        vertical-align: middle;\n",
       "    }\n",
       "\n",
       "    .dataframe tbody tr th {\n",
       "        vertical-align: top;\n",
       "    }\n",
       "\n",
       "    .dataframe thead th {\n",
       "        text-align: right;\n",
       "    }\n",
       "</style>\n",
       "<table border=\"1\" class=\"dataframe\">\n",
       "  <thead>\n",
       "    <tr style=\"text-align: right;\">\n",
       "      <th></th>\n",
       "      <th>data</th>\n",
       "    </tr>\n",
       "    <tr>\n",
       "      <th>labels</th>\n",
       "      <th></th>\n",
       "    </tr>\n",
       "  </thead>\n",
       "  <tbody>\n",
       "    <tr>\n",
       "      <th>2 conjunction</th>\n",
       "      <td>0.68</td>\n",
       "    </tr>\n",
       "    <tr>\n",
       "      <th>2 single-feature</th>\n",
       "      <td>0.66</td>\n",
       "    </tr>\n",
       "    <tr>\n",
       "      <th>4 single-feature</th>\n",
       "      <td>0.34</td>\n",
       "    </tr>\n",
       "  </tbody>\n",
       "</table>\n",
       "</div>"
      ],
      "text/plain": [
       "                  data\n",
       "labels                \n",
       "2 conjunction     0.68\n",
       "2 single-feature  0.66\n",
       "4 single-feature  0.34"
      ]
     },
     "execution_count": 366,
     "metadata": {},
     "output_type": "execute_result"
    }
   ],
   "source": [
    "data_for_plotting.groupby('labels').mean().round(2)"
   ]
  },
  {
   "cell_type": "code",
   "execution_count": 367,
   "metadata": {},
   "outputs": [
    {
     "data": {
      "text/html": [
       "<div>\n",
       "<style scoped>\n",
       "    .dataframe tbody tr th:only-of-type {\n",
       "        vertical-align: middle;\n",
       "    }\n",
       "\n",
       "    .dataframe tbody tr th {\n",
       "        vertical-align: top;\n",
       "    }\n",
       "\n",
       "    .dataframe thead th {\n",
       "        text-align: right;\n",
       "    }\n",
       "</style>\n",
       "<table border=\"1\" class=\"dataframe\">\n",
       "  <thead>\n",
       "    <tr style=\"text-align: right;\">\n",
       "      <th></th>\n",
       "      <th>data</th>\n",
       "    </tr>\n",
       "    <tr>\n",
       "      <th>labels</th>\n",
       "      <th></th>\n",
       "    </tr>\n",
       "  </thead>\n",
       "  <tbody>\n",
       "    <tr>\n",
       "      <th>2 conjunction</th>\n",
       "      <td>0.15</td>\n",
       "    </tr>\n",
       "    <tr>\n",
       "      <th>2 single-feature</th>\n",
       "      <td>0.08</td>\n",
       "    </tr>\n",
       "    <tr>\n",
       "      <th>4 single-feature</th>\n",
       "      <td>0.08</td>\n",
       "    </tr>\n",
       "  </tbody>\n",
       "</table>\n",
       "</div>"
      ],
      "text/plain": [
       "                  data\n",
       "labels                \n",
       "2 conjunction     0.15\n",
       "2 single-feature  0.08\n",
       "4 single-feature  0.08"
      ]
     },
     "execution_count": 367,
     "metadata": {},
     "output_type": "execute_result"
    }
   ],
   "source": [
    "data_for_plotting.groupby('labels').std().round(2)"
   ]
  },
  {
   "cell_type": "code",
   "execution_count": 368,
   "metadata": {},
   "outputs": [
    {
     "data": {
      "text/html": [
       "<div>\n",
       "<style scoped>\n",
       "    .dataframe tbody tr th:only-of-type {\n",
       "        vertical-align: middle;\n",
       "    }\n",
       "\n",
       "    .dataframe tbody tr th {\n",
       "        vertical-align: top;\n",
       "    }\n",
       "\n",
       "    .dataframe thead th {\n",
       "        text-align: right;\n",
       "    }\n",
       "</style>\n",
       "<table border=\"1\" class=\"dataframe\">\n",
       "  <thead>\n",
       "    <tr style=\"text-align: right;\">\n",
       "      <th></th>\n",
       "      <th>T</th>\n",
       "      <th>dof</th>\n",
       "      <th>alternative</th>\n",
       "      <th>p-val</th>\n",
       "      <th>CI95%</th>\n",
       "      <th>cohen-d</th>\n",
       "      <th>BF10</th>\n",
       "      <th>power</th>\n",
       "    </tr>\n",
       "  </thead>\n",
       "  <tbody>\n",
       "    <tr>\n",
       "      <th>T-test</th>\n",
       "      <td>-0.652</td>\n",
       "      <td>19</td>\n",
       "      <td>two-sided</td>\n",
       "      <td>0.5222</td>\n",
       "      <td>[-0.09, 0.05]</td>\n",
       "      <td>0.1848</td>\n",
       "      <td>0.281</td>\n",
       "      <td>0.1231</td>\n",
       "    </tr>\n",
       "  </tbody>\n",
       "</table>\n",
       "</div>"
      ],
      "text/plain": [
       "            T  dof alternative   p-val          CI95%  cohen-d   BF10   power\n",
       "T-test -0.652   19   two-sided  0.5222  [-0.09, 0.05]   0.1848  0.281  0.1231"
      ]
     },
     "execution_count": 368,
     "metadata": {},
     "output_type": "execute_result"
    }
   ],
   "source": [
    "# 2 single feature vs 4 conjunction\n",
    "pingouin.ttest(    \n",
    "    x=data_for_plotting[data_for_plotting['labels']=='2 single-feature']['data'],\n",
    "    y=data_for_plotting[data_for_plotting['labels']=='2 conjunction']['data'],\n",
    "    paired=True).round(4)"
   ]
  },
  {
   "cell_type": "code",
   "execution_count": 317,
   "metadata": {},
   "outputs": [
    {
     "data": {
      "text/html": [
       "<div>\n",
       "<style scoped>\n",
       "    .dataframe tbody tr th:only-of-type {\n",
       "        vertical-align: middle;\n",
       "    }\n",
       "\n",
       "    .dataframe tbody tr th {\n",
       "        vertical-align: top;\n",
       "    }\n",
       "\n",
       "    .dataframe thead th {\n",
       "        text-align: right;\n",
       "    }\n",
       "</style>\n",
       "<table border=\"1\" class=\"dataframe\">\n",
       "  <thead>\n",
       "    <tr style=\"text-align: right;\">\n",
       "      <th></th>\n",
       "      <th>T</th>\n",
       "      <th>dof</th>\n",
       "      <th>alternative</th>\n",
       "      <th>p-val</th>\n",
       "      <th>CI95%</th>\n",
       "      <th>cohen-d</th>\n",
       "      <th>BF10</th>\n",
       "      <th>power</th>\n",
       "    </tr>\n",
       "  </thead>\n",
       "  <tbody>\n",
       "    <tr>\n",
       "      <th>T-test</th>\n",
       "      <td>-8.05551</td>\n",
       "      <td>19</td>\n",
       "      <td>two-sided</td>\n",
       "      <td>1.512141e-07</td>\n",
       "      <td>[-0.42, -0.25]</td>\n",
       "      <td>2.760365</td>\n",
       "      <td>1.016e+05</td>\n",
       "      <td>1.0</td>\n",
       "    </tr>\n",
       "  </tbody>\n",
       "</table>\n",
       "</div>"
      ],
      "text/plain": [
       "              T  dof alternative         p-val           CI95%   cohen-d  \\\n",
       "T-test -8.05551   19   two-sided  1.512141e-07  [-0.42, -0.25]  2.760365   \n",
       "\n",
       "             BF10  power  \n",
       "T-test  1.016e+05    1.0  "
      ]
     },
     "execution_count": 317,
     "metadata": {},
     "output_type": "execute_result"
    }
   ],
   "source": [
    "# 2 single feature vs 4 conjunction\n",
    "pingouin.ttest(    \n",
    "    x=data_for_plotting[data_for_plotting['labels']=='4 single-feature']['data'],\n",
    "    y=data_for_plotting[data_for_plotting['labels']=='2 conjunction']['data'],\n",
    "    paired=True)"
   ]
  },
  {
   "cell_type": "code",
   "execution_count": 370,
   "metadata": {},
   "outputs": [
    {
     "data": {
      "image/png": "[encoded data removed]",
      "text/plain": [
       "<Figure size 432x288 with 1 Axes>"
      ]
     },
     "metadata": {},
     "output_type": "display_data"
    }
   ],
   "source": [
    "sns.set(font_scale=1.2)\n",
    "sns.set_style(\"whitegrid\")\n",
    "\n",
    "sns.barplot(x=[0,1,2], y=[1,1,1], color='tomato')\n",
    "ax = sns.barplot(x=labels,y=data,data=data_for_plotting,color='dodgerblue', capsize=.05)\n",
    "\n",
    "# Add some text for labels, title and custom x-axis tick labels, etc.\n",
    "plt.title('mvLoad predictions, set size 2vs4', fontsize=18)\n",
    "ax.set_ylabel('Proportion of trials')\n",
    "ax.set_xlabel('Condition tested')\n",
    "\n",
    "ax.spines['right'].set_visible(False)\n",
    "ax.spines['top'].set_visible(False)\n",
    "ax.yaxis.set_ticks_position('left')\n",
    "ax.xaxis.set_ticks_position('bottom')\n",
    "\n",
    "ax.text(.01,.3,'Load 2',fontsize=25,c='w',ha='center');\n",
    "ax.text(1+.01,.12,'Load 2',fontsize=25,c='w',ha='center');\n",
    "ax.text(2+.01,.3,'Load 2',fontsize=25,c='w',ha='center');\n",
    "\n",
    "ax.text(.01,.8,'Load 4',fontsize=25,c='w',ha='center');\n",
    "ax.text(1+.01,.625,'Load 4',fontsize=25,c='w',ha='center');\n",
    "ax.text(2+.01,.8,'Load 4',fontsize=25,c='w',ha='center');\n",
    "\n",
    "# statistical annotation\n",
    "stat_y,stat_h = 1.05, .05\n",
    "plt.plot([1, 1, 2, 2], [stat_y,stat_y+stat_h,stat_y+stat_h,stat_y], lw=1.5, c='k')\n",
    "plt.text(1.5, stat_y+stat_h-.04, \"***\", ha='center', va='bottom', color='k', fontsize=20)\n",
    "\n",
    "stat_y,stat_h = 1.15, .05\n",
    "plt.plot([0, 0, 2, 2], [stat_y,stat_y+stat_h,stat_y+stat_h,stat_y], lw=1.5, c='k')\n",
    "plt.text(1, stat_y+stat_h+.013, 'n.s.', ha='center', va='bottom', color='k', fontsize=12)\n",
    "\n",
    "plt.ylim(0,1.28)\n",
    "plt.yticks(np.arange(0,1.01,.2));\n",
    "plt.savefig('output/figures/mvload_preds_24.png',dpi=500,bbox_inches='tight')\n",
    "plt.savefig('output/figures/mvload_preds_24.pdf',dpi=500,bbox_inches='tight')"
   ]
  }
 ],
 "metadata": {
  "interpreter": {
   "hash": "d3a69fb0db618fbcab2c09751e112fe5c333bd7dbcd22df9aa04e19f2c5c72f9"
  },
  "kernelspec": {
   "display_name": "Python 3.8.10 64-bit ('archery': conda)",
   "name": "python3"
  },
  "language_info": {
   "codemirror_mode": {
    "name": "ipython",
    "version": 3
   },
   "file_extension": ".py",
   "mimetype": "text/x-python",
   "name": "python",
   "nbconvert_exporter": "python",
   "pygments_lexer": "ipython3",
   "version": "3.8.10"
  },
  "varInspector": {
   "cols": {
    "lenName": 16,
    "lenType": 16,
    "lenVar": 40
   },
   "kernels_config": {
    "python": {
     "delete_cmd_postfix": "",
     "delete_cmd_prefix": "del ",
     "library": "var_list.py",
     "varRefreshCmd": "print(var_dic_list())"
    },
    "r": {
     "delete_cmd_postfix": ") ",
     "delete_cmd_prefix": "rm(",
     "library": "var_list.r",
     "varRefreshCmd": "cat(var_dic_list()) "
    }
   },
   "types_to_exclude": [
    "module",
    "function",
    "builtin_function_or_method",
    "instance",
    "_Feature"
   ],
   "window_display": false
  }
 },
 "nbformat": 4,
 "nbformat_minor": 2
}
