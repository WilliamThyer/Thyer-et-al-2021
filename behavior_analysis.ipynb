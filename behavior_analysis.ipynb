{
 "cells": [
  {
   "cell_type": "code",
   "execution_count": 87,
   "metadata": {
    "ExecuteTime": {
     "end_time": "2020-05-10T16:53:34.147747Z",
     "start_time": "2020-05-10T16:53:31.818642Z"
    },
    "tags": []
   },
   "outputs": [
    {
     "name": "stdout",
     "output_type": "stream",
     "text": [
      "The autoreload extension is already loaded. To reload it, use:\n",
      "  %reload_ext autoreload\n"
     ]
    }
   ],
   "source": [
    "import decode_eeg\n",
    "import numpy as np\n",
    "import matplotlib.pyplot as plt\n",
    "import seaborn as sns\n",
    "from pathlib import Path\n",
    "import pandas as pd\n",
    "import scipy.stats as sista\n",
    "import statsmodels.api as sm\n",
    "from statsmodels.formula.api import ols\n",
    "import pingouin\n",
    "\n",
    "import matplotlib\n",
    "matplotlib.rcParams['font.sans-serif'] = \"Arial\"\n",
    "matplotlib.rcParams['font.family'] = \"sans-serif\"\n",
    "\n",
    "np.random.seed(42)\n",
    "%load_ext autoreload\n",
    "%autoreload 2"
   ]
  },
  {
   "cell_type": "code",
   "execution_count": 88,
   "metadata": {},
   "outputs": [
    {
     "data": {
      "text/html": [
       "<div>\n",
       "<style scoped>\n",
       "    .dataframe tbody tr th:only-of-type {\n",
       "        vertical-align: middle;\n",
       "    }\n",
       "\n",
       "    .dataframe tbody tr th {\n",
       "        vertical-align: top;\n",
       "    }\n",
       "\n",
       "    .dataframe thead th {\n",
       "        text-align: right;\n",
       "    }\n",
       "</style>\n",
       "<table border=\"1\" class=\"dataframe\">\n",
       "  <thead>\n",
       "    <tr style=\"text-align: right;\">\n",
       "      <th></th>\n",
       "      <th>Subject</th>\n",
       "      <th>TrialType</th>\n",
       "      <th>ACC</th>\n",
       "      <th>SetSize</th>\n",
       "      <th>Timestamp</th>\n",
       "      <th>Experiment</th>\n",
       "    </tr>\n",
       "  </thead>\n",
       "  <tbody>\n",
       "    <tr>\n",
       "      <th>1074</th>\n",
       "      <td>20</td>\n",
       "      <td>1</td>\n",
       "      <td>1</td>\n",
       "      <td>1</td>\n",
       "      <td>1579734021</td>\n",
       "      <td>2</td>\n",
       "    </tr>\n",
       "    <tr>\n",
       "      <th>1075</th>\n",
       "      <td>20</td>\n",
       "      <td>1</td>\n",
       "      <td>1</td>\n",
       "      <td>1</td>\n",
       "      <td>1579734027</td>\n",
       "      <td>2</td>\n",
       "    </tr>\n",
       "    <tr>\n",
       "      <th>1076</th>\n",
       "      <td>20</td>\n",
       "      <td>1</td>\n",
       "      <td>1</td>\n",
       "      <td>4</td>\n",
       "      <td>1579734033</td>\n",
       "      <td>2</td>\n",
       "    </tr>\n",
       "    <tr>\n",
       "      <th>1077</th>\n",
       "      <td>20</td>\n",
       "      <td>1</td>\n",
       "      <td>1</td>\n",
       "      <td>3</td>\n",
       "      <td>1579734038</td>\n",
       "      <td>2</td>\n",
       "    </tr>\n",
       "    <tr>\n",
       "      <th>1078</th>\n",
       "      <td>20</td>\n",
       "      <td>1</td>\n",
       "      <td>1</td>\n",
       "      <td>1</td>\n",
       "      <td>1579734060</td>\n",
       "      <td>2</td>\n",
       "    </tr>\n",
       "  </tbody>\n",
       "</table>\n",
       "</div>"
      ],
      "text/plain": [
       "      Subject  TrialType  ACC  SetSize   Timestamp  Experiment\n",
       "1074       20          1    1        1  1579734021           2\n",
       "1075       20          1    1        1  1579734027           2\n",
       "1076       20          1    1        4  1579734033           2\n",
       "1077       20          1    1        3  1579734038           2\n",
       "1078       20          1    1        1  1579734060           2"
      ]
     },
     "execution_count": 88,
     "metadata": {},
     "output_type": "execute_result"
    }
   ],
   "source": [
    "output_dir = Path('./output')\n",
    "fig_dir = output_dir / 'figures' / 'behavior'\n",
    "\n",
    "behavior = None\n",
    "experiment_names = ['1801','1901','1902']\n",
    "for iexp,experiment_name in enumerate(experiment_names):\n",
    "    \n",
    "    data_dir = f'./data/{experiment_name}'\n",
    "    exp = decode_eeg.Experiment(experiment_name,data_dir,test=False)\n",
    "    \n",
    "    for isub in range(exp.nsub):\n",
    "        # Load subject's behavior data\n",
    "        if behavior is None:\n",
    "            behavior = pd.DataFrame(exp.load_behavior(isub))[['Subject','TrialType','ACC','SetSize','Timestamp']]\n",
    "            behavior['Experiment'] = (np.ones(len(behavior))*iexp).astype(int)\n",
    "        else:\n",
    "            temp = pd.DataFrame(exp.load_behavior(isub))[['Subject','TrialType','ACC','SetSize','Timestamp']]\n",
    "            temp['Experiment'] = (np.ones(len(temp))*iexp).astype(int)\n",
    "            behavior = behavior.append(temp)\n",
    "\n",
    "behavior.tail()"
   ]
  },
  {
   "cell_type": "code",
   "execution_count": 89,
   "metadata": {},
   "outputs": [
    {
     "data": {
      "text/plain": [
       "Experiment  SetSize\n",
       "0           1          0.917015\n",
       "            2          0.888095\n",
       "            3          0.835514\n",
       "            4          0.762686\n",
       "1           1          0.966280\n",
       "            2          0.917102\n",
       "            3          0.832606\n",
       "            4          0.756411\n",
       "2           1          0.965916\n",
       "            2          0.903212\n",
       "            3          0.801378\n",
       "            4          0.723733\n",
       "Name: ACC, dtype: float64"
      ]
     },
     "execution_count": 89,
     "metadata": {},
     "output_type": "execute_result"
    }
   ],
   "source": [
    "total_means = behavior.groupby(['Experiment','SetSize'])['ACC'].mean()\n",
    "subject_means = behavior.groupby(['Experiment','SetSize','Subject'])['ACC'].mean().reset_index()\n",
    "total_means"
   ]
  },
  {
   "cell_type": "code",
   "execution_count": 91,
   "metadata": {},
   "outputs": [
    {
     "data": {
      "image/png": "[encoded data removed]",
      "text/plain": [
       "<Figure size 1200x450 with 3 Axes>"
      ]
     },
     "metadata": {},
     "output_type": "display_data"
    }
   ],
   "source": [
    "fig, axes = plt.subplots(1, 3, sharey=True, figsize=(12,4.5))\n",
    "# fig.suptitle('Change detection accuracy',fontsize=18)\n",
    "my_pal = {\"royalblue\", \"firebrick\", \"forestgreen\", \"orange\"}\n",
    "\n",
    "# experiment 1\n",
    "sns.violinplot(\n",
    "    ax = axes[0], \n",
    "    x='SetSize',y='ACC', \n",
    "    data=subject_means[subject_means['Experiment']==0],\n",
    "    dodge=True,inner='points',cut=.5,palette = my_pal,scale='width')\n",
    "\n",
    "axes[0].set_title('Experiment 1 (color)',fontsize=14)\n",
    "\n",
    "# experiment 2\n",
    "sns.violinplot(\n",
    "    ax = axes[1], \n",
    "    x='SetSize',y='ACC', \n",
    "    data=subject_means[subject_means['Experiment']==1],\n",
    "    dodge=True,inner='points',cut=.5,palette = my_pal,scale='width') \n",
    "\n",
    "axes[1].set_title('Experiment 2 (orientation)',fontsize=14)\n",
    "\n",
    "# experiment 3\n",
    "sns.violinplot(\n",
    "    ax = axes[2], \n",
    "    x='SetSize',y='ACC', \n",
    "    data=subject_means[subject_means['Experiment']==2],\n",
    "    dodge=True,inner='points',cut=.5,palette = my_pal,scale='width') \n",
    "\n",
    "axes[2].set_title('Experiment 3 (conjunction)',fontsize=14)\n",
    "\n",
    "for iax,ax in enumerate(axes):\n",
    "\n",
    "    # plot means\n",
    "    ax.scatter(\n",
    "        x = [0,1,2,3],\n",
    "        y = [total_means[iax][1],total_means[iax][2],total_means[iax][3],total_means[iax][4]],\n",
    "        c = 'white', edgecolors='k',s=75)\n",
    "\n",
    "    # asethetics\n",
    "    ax.spines['right'].set_visible(False)\n",
    "    ax.spines['top'].set_visible(False)\n",
    "    plt.setp(ax.get_xticklabels(), fontsize=14)\n",
    "    plt.setp(ax.get_yticklabels(), fontsize=14)\n",
    "    ax.set_xlabel('Set size',fontsize=14)\n",
    "    if iax == 0:\n",
    "        ax.set_ylabel('Accuracy',fontsize=14)\n",
    "    else:\n",
    "        ax.set_ylabel('')\n",
    "\n",
    "plt.ylim([.46,1.04])\n",
    "plt.savefig('output/figures/cd_accuracy.png',dpi=500,bbox_inches='tight')\n",
    "plt.savefig('output/figures/cd_accuracy.pdf',dpi=500,bbox_inches='tight')\n",
    "\n",
    "plt.show()"
   ]
  },
  {
   "cell_type": "code",
   "execution_count": 14,
   "metadata": {},
   "outputs": [
    {
     "data": {
      "text/html": [
       "<div>\n",
       "<style scoped>\n",
       "    .dataframe tbody tr th:only-of-type {\n",
       "        vertical-align: middle;\n",
       "    }\n",
       "\n",
       "    .dataframe tbody tr th {\n",
       "        vertical-align: top;\n",
       "    }\n",
       "\n",
       "    .dataframe thead th {\n",
       "        text-align: right;\n",
       "    }\n",
       "</style>\n",
       "<table border=\"1\" class=\"dataframe\">\n",
       "  <thead>\n",
       "    <tr style=\"text-align: right;\">\n",
       "      <th></th>\n",
       "      <th>df</th>\n",
       "      <th>sum_sq</th>\n",
       "      <th>mean_sq</th>\n",
       "      <th>F</th>\n",
       "      <th>PR(&gt;F)</th>\n",
       "    </tr>\n",
       "  </thead>\n",
       "  <tbody>\n",
       "    <tr>\n",
       "      <th>C(SetSize)</th>\n",
       "      <td>3.0</td>\n",
       "      <td>0.451782</td>\n",
       "      <td>0.150594</td>\n",
       "      <td>90.191793</td>\n",
       "      <td>2.015141e-31</td>\n",
       "    </tr>\n",
       "    <tr>\n",
       "      <th>Residual</th>\n",
       "      <td>128.0</td>\n",
       "      <td>0.213723</td>\n",
       "      <td>0.001670</td>\n",
       "      <td>NaN</td>\n",
       "      <td>NaN</td>\n",
       "    </tr>\n",
       "  </tbody>\n",
       "</table>\n",
       "</div>"
      ],
      "text/plain": [
       "               df    sum_sq   mean_sq          F        PR(>F)\n",
       "C(SetSize)    3.0  0.451782  0.150594  90.191793  2.015141e-31\n",
       "Residual    128.0  0.213723  0.001670        NaN           NaN"
      ]
     },
     "execution_count": 14,
     "metadata": {},
     "output_type": "execute_result"
    }
   ],
   "source": [
    "model_exp1 = ols('ACC ~ C(SetSize)', data=subject_means.loc[subject_means['Experiment']==0]).fit();\n",
    "anova_table_exp1 = sm.stats.anova_lm(model_exp1, typ=1);\n",
    "anova_table_exp1"
   ]
  },
  {
   "cell_type": "code",
   "execution_count": 29,
   "metadata": {},
   "outputs": [
    {
     "data": {
      "text/html": [
       "<div>\n",
       "<style scoped>\n",
       "    .dataframe tbody tr th:only-of-type {\n",
       "        vertical-align: middle;\n",
       "    }\n",
       "\n",
       "    .dataframe tbody tr th {\n",
       "        vertical-align: top;\n",
       "    }\n",
       "\n",
       "    .dataframe thead th {\n",
       "        text-align: right;\n",
       "    }\n",
       "</style>\n",
       "<table border=\"1\" class=\"dataframe\">\n",
       "  <thead>\n",
       "    <tr style=\"text-align: right;\">\n",
       "      <th></th>\n",
       "      <th>Experiment</th>\n",
       "      <th>Set size</th>\n",
       "      <th>K</th>\n",
       "      <th>SetSize</th>\n",
       "    </tr>\n",
       "  </thead>\n",
       "  <tbody>\n",
       "    <tr>\n",
       "      <th>0</th>\n",
       "      <td>0</td>\n",
       "      <td>1</td>\n",
       "      <td>0.816658</td>\n",
       "      <td>1</td>\n",
       "    </tr>\n",
       "    <tr>\n",
       "      <th>1</th>\n",
       "      <td>0</td>\n",
       "      <td>2</td>\n",
       "      <td>1.399474</td>\n",
       "      <td>2</td>\n",
       "    </tr>\n",
       "    <tr>\n",
       "      <th>2</th>\n",
       "      <td>0</td>\n",
       "      <td>3</td>\n",
       "      <td>1.863962</td>\n",
       "      <td>3</td>\n",
       "    </tr>\n",
       "    <tr>\n",
       "      <th>3</th>\n",
       "      <td>0</td>\n",
       "      <td>4</td>\n",
       "      <td>1.721865</td>\n",
       "      <td>4</td>\n",
       "    </tr>\n",
       "    <tr>\n",
       "      <th>4</th>\n",
       "      <td>0</td>\n",
       "      <td>1</td>\n",
       "      <td>0.824092</td>\n",
       "      <td>1</td>\n",
       "    </tr>\n",
       "    <tr>\n",
       "      <th>...</th>\n",
       "      <td>...</td>\n",
       "      <td>...</td>\n",
       "      <td>...</td>\n",
       "      <td>...</td>\n",
       "    </tr>\n",
       "    <tr>\n",
       "      <th>127</th>\n",
       "      <td>0</td>\n",
       "      <td>4</td>\n",
       "      <td>2.064833</td>\n",
       "      <td>4</td>\n",
       "    </tr>\n",
       "    <tr>\n",
       "      <th>128</th>\n",
       "      <td>0</td>\n",
       "      <td>1</td>\n",
       "      <td>0.809109</td>\n",
       "      <td>1</td>\n",
       "    </tr>\n",
       "    <tr>\n",
       "      <th>129</th>\n",
       "      <td>0</td>\n",
       "      <td>2</td>\n",
       "      <td>1.602404</td>\n",
       "      <td>2</td>\n",
       "    </tr>\n",
       "    <tr>\n",
       "      <th>130</th>\n",
       "      <td>0</td>\n",
       "      <td>3</td>\n",
       "      <td>2.131373</td>\n",
       "      <td>3</td>\n",
       "    </tr>\n",
       "    <tr>\n",
       "      <th>131</th>\n",
       "      <td>0</td>\n",
       "      <td>4</td>\n",
       "      <td>2.022466</td>\n",
       "      <td>4</td>\n",
       "    </tr>\n",
       "  </tbody>\n",
       "</table>\n",
       "<p>132 rows × 4 columns</p>\n",
       "</div>"
      ],
      "text/plain": [
       "     Experiment  Set size         K  SetSize\n",
       "0             0         1  0.816658        1\n",
       "1             0         2  1.399474        2\n",
       "2             0         3  1.863962        3\n",
       "3             0         4  1.721865        4\n",
       "4             0         1  0.824092        1\n",
       "..          ...       ...       ...      ...\n",
       "127           0         4  2.064833        4\n",
       "128           0         1  0.809109        1\n",
       "129           0         2  1.602404        2\n",
       "130           0         3  2.131373        3\n",
       "131           0         4  2.022466        4\n",
       "\n",
       "[132 rows x 4 columns]"
      ]
     },
     "execution_count": 29,
     "metadata": {},
     "output_type": "execute_result"
    }
   ],
   "source": [
    "df.loc[df['Experiment']==0]"
   ]
  },
  {
   "cell_type": "code",
   "execution_count": 28,
   "metadata": {},
   "outputs": [
    {
     "data": {
      "text/html": [
       "<div>\n",
       "<style scoped>\n",
       "    .dataframe tbody tr th:only-of-type {\n",
       "        vertical-align: middle;\n",
       "    }\n",
       "\n",
       "    .dataframe tbody tr th {\n",
       "        vertical-align: top;\n",
       "    }\n",
       "\n",
       "    .dataframe thead th {\n",
       "        text-align: right;\n",
       "    }\n",
       "</style>\n",
       "<table border=\"1\" class=\"dataframe\">\n",
       "  <thead>\n",
       "    <tr style=\"text-align: right;\">\n",
       "      <th></th>\n",
       "      <th>Experiment</th>\n",
       "      <th>SetSize</th>\n",
       "      <th>Subject</th>\n",
       "      <th>ACC</th>\n",
       "    </tr>\n",
       "  </thead>\n",
       "  <tbody>\n",
       "    <tr>\n",
       "      <th>0</th>\n",
       "      <td>0</td>\n",
       "      <td>1</td>\n",
       "      <td>6</td>\n",
       "      <td>0.912807</td>\n",
       "    </tr>\n",
       "    <tr>\n",
       "      <th>1</th>\n",
       "      <td>0</td>\n",
       "      <td>1</td>\n",
       "      <td>7</td>\n",
       "      <td>0.916667</td>\n",
       "    </tr>\n",
       "    <tr>\n",
       "      <th>2</th>\n",
       "      <td>0</td>\n",
       "      <td>1</td>\n",
       "      <td>12</td>\n",
       "      <td>0.897849</td>\n",
       "    </tr>\n",
       "    <tr>\n",
       "      <th>3</th>\n",
       "      <td>0</td>\n",
       "      <td>1</td>\n",
       "      <td>13</td>\n",
       "      <td>0.913366</td>\n",
       "    </tr>\n",
       "    <tr>\n",
       "      <th>4</th>\n",
       "      <td>0</td>\n",
       "      <td>1</td>\n",
       "      <td>14</td>\n",
       "      <td>0.916877</td>\n",
       "    </tr>\n",
       "    <tr>\n",
       "      <th>...</th>\n",
       "      <td>...</td>\n",
       "      <td>...</td>\n",
       "      <td>...</td>\n",
       "      <td>...</td>\n",
       "    </tr>\n",
       "    <tr>\n",
       "      <th>127</th>\n",
       "      <td>0</td>\n",
       "      <td>4</td>\n",
       "      <td>46</td>\n",
       "      <td>0.744361</td>\n",
       "    </tr>\n",
       "    <tr>\n",
       "      <th>128</th>\n",
       "      <td>0</td>\n",
       "      <td>4</td>\n",
       "      <td>47</td>\n",
       "      <td>0.768194</td>\n",
       "    </tr>\n",
       "    <tr>\n",
       "      <th>129</th>\n",
       "      <td>0</td>\n",
       "      <td>4</td>\n",
       "      <td>48</td>\n",
       "      <td>0.774359</td>\n",
       "    </tr>\n",
       "    <tr>\n",
       "      <th>130</th>\n",
       "      <td>0</td>\n",
       "      <td>4</td>\n",
       "      <td>49</td>\n",
       "      <td>0.757862</td>\n",
       "    </tr>\n",
       "    <tr>\n",
       "      <th>131</th>\n",
       "      <td>0</td>\n",
       "      <td>4</td>\n",
       "      <td>50</td>\n",
       "      <td>0.750820</td>\n",
       "    </tr>\n",
       "  </tbody>\n",
       "</table>\n",
       "<p>132 rows × 4 columns</p>\n",
       "</div>"
      ],
      "text/plain": [
       "     Experiment  SetSize  Subject       ACC\n",
       "0             0        1        6  0.912807\n",
       "1             0        1        7  0.916667\n",
       "2             0        1       12  0.897849\n",
       "3             0        1       13  0.913366\n",
       "4             0        1       14  0.916877\n",
       "..          ...      ...      ...       ...\n",
       "127           0        4       46  0.744361\n",
       "128           0        4       47  0.768194\n",
       "129           0        4       48  0.774359\n",
       "130           0        4       49  0.757862\n",
       "131           0        4       50  0.750820\n",
       "\n",
       "[132 rows x 4 columns]"
      ]
     },
     "execution_count": 28,
     "metadata": {},
     "output_type": "execute_result"
    }
   ],
   "source": [
    "subject_means.loc[subject_means['Experiment']==0]"
   ]
  },
  {
   "cell_type": "code",
   "execution_count": 15,
   "metadata": {},
   "outputs": [
    {
     "data": {
      "text/html": [
       "<div>\n",
       "<style scoped>\n",
       "    .dataframe tbody tr th:only-of-type {\n",
       "        vertical-align: middle;\n",
       "    }\n",
       "\n",
       "    .dataframe tbody tr th {\n",
       "        vertical-align: top;\n",
       "    }\n",
       "\n",
       "    .dataframe thead th {\n",
       "        text-align: right;\n",
       "    }\n",
       "</style>\n",
       "<table border=\"1\" class=\"dataframe\">\n",
       "  <thead>\n",
       "    <tr style=\"text-align: right;\">\n",
       "      <th></th>\n",
       "      <th>df</th>\n",
       "      <th>sum_sq</th>\n",
       "      <th>mean_sq</th>\n",
       "      <th>F</th>\n",
       "      <th>PR(&gt;F)</th>\n",
       "    </tr>\n",
       "  </thead>\n",
       "  <tbody>\n",
       "    <tr>\n",
       "      <th>C(SetSize)</th>\n",
       "      <td>3.0</td>\n",
       "      <td>0.788738</td>\n",
       "      <td>0.262913</td>\n",
       "      <td>32.927262</td>\n",
       "      <td>1.336688e-15</td>\n",
       "    </tr>\n",
       "    <tr>\n",
       "      <th>Residual</th>\n",
       "      <td>120.0</td>\n",
       "      <td>0.958158</td>\n",
       "      <td>0.007985</td>\n",
       "      <td>NaN</td>\n",
       "      <td>NaN</td>\n",
       "    </tr>\n",
       "  </tbody>\n",
       "</table>\n",
       "</div>"
      ],
      "text/plain": [
       "               df    sum_sq   mean_sq          F        PR(>F)\n",
       "C(SetSize)    3.0  0.788738  0.262913  32.927262  1.336688e-15\n",
       "Residual    120.0  0.958158  0.007985        NaN           NaN"
      ]
     },
     "execution_count": 15,
     "metadata": {},
     "output_type": "execute_result"
    }
   ],
   "source": [
    "model_exp2 = ols('ACC ~ C(SetSize)', data=subject_means.loc[subject_means['Experiment']==1]).fit();\n",
    "anova_table_exp2 = sm.stats.anova_lm(model_exp2, typ=1);\n",
    "anova_table_exp2"
   ]
  },
  {
   "cell_type": "code",
   "execution_count": 16,
   "metadata": {},
   "outputs": [
    {
     "data": {
      "text/html": [
       "<div>\n",
       "<style scoped>\n",
       "    .dataframe tbody tr th:only-of-type {\n",
       "        vertical-align: middle;\n",
       "    }\n",
       "\n",
       "    .dataframe tbody tr th {\n",
       "        vertical-align: top;\n",
       "    }\n",
       "\n",
       "    .dataframe thead th {\n",
       "        text-align: right;\n",
       "    }\n",
       "</style>\n",
       "<table border=\"1\" class=\"dataframe\">\n",
       "  <thead>\n",
       "    <tr style=\"text-align: right;\">\n",
       "      <th></th>\n",
       "      <th>df</th>\n",
       "      <th>sum_sq</th>\n",
       "      <th>mean_sq</th>\n",
       "      <th>F</th>\n",
       "      <th>PR(&gt;F)</th>\n",
       "    </tr>\n",
       "  </thead>\n",
       "  <tbody>\n",
       "    <tr>\n",
       "      <th>C(SetSize)</th>\n",
       "      <td>3.0</td>\n",
       "      <td>0.695943</td>\n",
       "      <td>0.231981</td>\n",
       "      <td>60.270951</td>\n",
       "      <td>4.766543e-20</td>\n",
       "    </tr>\n",
       "    <tr>\n",
       "      <th>Residual</th>\n",
       "      <td>76.0</td>\n",
       "      <td>0.292522</td>\n",
       "      <td>0.003849</td>\n",
       "      <td>NaN</td>\n",
       "      <td>NaN</td>\n",
       "    </tr>\n",
       "  </tbody>\n",
       "</table>\n",
       "</div>"
      ],
      "text/plain": [
       "              df    sum_sq   mean_sq          F        PR(>F)\n",
       "C(SetSize)   3.0  0.695943  0.231981  60.270951  4.766543e-20\n",
       "Residual    76.0  0.292522  0.003849        NaN           NaN"
      ]
     },
     "execution_count": 16,
     "metadata": {},
     "output_type": "execute_result"
    }
   ],
   "source": [
    "model_exp3 = ols('ACC ~ C(SetSize)', data=subject_means.loc[subject_means['Experiment']==2]).fit();\n",
    "anova_table_exp3 = sm.stats.anova_lm(model_exp3, typ=1);\n",
    "anova_table_exp3"
   ]
  },
  {
   "cell_type": "markdown",
   "metadata": {},
   "source": [
    "# T-tests"
   ]
  },
  {
   "cell_type": "code",
   "execution_count": 17,
   "metadata": {},
   "outputs": [
    {
     "name": "stdout",
     "output_type": "stream",
     "text": [
      "Experiment\n",
      "0    0.849415\n",
      "1    0.866869\n",
      "2    0.848095\n",
      "Name: ACC, dtype: float64\n",
      "Experiment\n",
      "0    0.071275\n",
      "1    0.119174\n",
      "2    0.111858\n",
      "Name: ACC, dtype: float64\n",
      "Experiment\n",
      "0    33.0\n",
      "1    31.0\n",
      "2    20.0\n",
      "Name: Subject, dtype: float64\n"
     ]
    }
   ],
   "source": [
    "print(subject_means.groupby('Experiment')['ACC'].mean())\n",
    "print(subject_means.groupby('Experiment')['ACC'].std())\n",
    "print(subject_means.groupby('Experiment')['Subject'].count()/4)"
   ]
  },
  {
   "cell_type": "code",
   "execution_count": 11,
   "metadata": {},
   "outputs": [
    {
     "data": {
      "text/html": [
       "<div>\n",
       "<style scoped>\n",
       "    .dataframe tbody tr th:only-of-type {\n",
       "        vertical-align: middle;\n",
       "    }\n",
       "\n",
       "    .dataframe tbody tr th {\n",
       "        vertical-align: top;\n",
       "    }\n",
       "\n",
       "    .dataframe thead th {\n",
       "        text-align: right;\n",
       "    }\n",
       "</style>\n",
       "<table border=\"1\" class=\"dataframe\">\n",
       "  <thead>\n",
       "    <tr style=\"text-align: right;\">\n",
       "      <th></th>\n",
       "      <th>T</th>\n",
       "      <th>dof</th>\n",
       "      <th>alternative</th>\n",
       "      <th>p-val</th>\n",
       "      <th>CI95%</th>\n",
       "      <th>cohen-d</th>\n",
       "      <th>BF10</th>\n",
       "      <th>power</th>\n",
       "    </tr>\n",
       "  </thead>\n",
       "  <tbody>\n",
       "    <tr>\n",
       "      <th>T-test</th>\n",
       "      <td>-1.4109</td>\n",
       "      <td>198.504594</td>\n",
       "      <td>two-sided</td>\n",
       "      <td>0.159839</td>\n",
       "      <td>[-0.04, 0.01]</td>\n",
       "      <td>0.179087</td>\n",
       "      <td>0.352</td>\n",
       "      <td>0.29724</td>\n",
       "    </tr>\n",
       "  </tbody>\n",
       "</table>\n",
       "</div>"
      ],
      "text/plain": [
       "             T         dof alternative     p-val          CI95%   cohen-d  \\\n",
       "T-test -1.4109  198.504594   two-sided  0.159839  [-0.04, 0.01]  0.179087   \n",
       "\n",
       "         BF10    power  \n",
       "T-test  0.352  0.29724  "
      ]
     },
     "execution_count": 11,
     "metadata": {},
     "output_type": "execute_result"
    }
   ],
   "source": [
    "pingouin.ttest(x=subject_means.loc[subject_means.Experiment==0,'ACC'],y=subject_means.loc[subject_means.Experiment==1,'ACC'])"
   ]
  },
  {
   "cell_type": "code",
   "execution_count": 13,
   "metadata": {},
   "outputs": [
    {
     "data": {
      "text/html": [
       "<div>\n",
       "<style scoped>\n",
       "    .dataframe tbody tr th:only-of-type {\n",
       "        vertical-align: middle;\n",
       "    }\n",
       "\n",
       "    .dataframe tbody tr th {\n",
       "        vertical-align: top;\n",
       "    }\n",
       "\n",
       "    .dataframe thead th {\n",
       "        text-align: right;\n",
       "    }\n",
       "</style>\n",
       "<table border=\"1\" class=\"dataframe\">\n",
       "  <thead>\n",
       "    <tr style=\"text-align: right;\">\n",
       "      <th></th>\n",
       "      <th>T</th>\n",
       "      <th>dof</th>\n",
       "      <th>alternative</th>\n",
       "      <th>p-val</th>\n",
       "      <th>CI95%</th>\n",
       "      <th>cohen-d</th>\n",
       "      <th>BF10</th>\n",
       "      <th>power</th>\n",
       "    </tr>\n",
       "  </thead>\n",
       "  <tbody>\n",
       "    <tr>\n",
       "      <th>T-test</th>\n",
       "      <td>0.094589</td>\n",
       "      <td>118.341553</td>\n",
       "      <td>two-sided</td>\n",
       "      <td>0.924801</td>\n",
       "      <td>[-0.03, 0.03]</td>\n",
       "      <td>0.014879</td>\n",
       "      <td>0.155</td>\n",
       "      <td>0.051253</td>\n",
       "    </tr>\n",
       "  </tbody>\n",
       "</table>\n",
       "</div>"
      ],
      "text/plain": [
       "               T         dof alternative     p-val          CI95%   cohen-d  \\\n",
       "T-test  0.094589  118.341553   two-sided  0.924801  [-0.03, 0.03]  0.014879   \n",
       "\n",
       "         BF10     power  \n",
       "T-test  0.155  0.051253  "
      ]
     },
     "execution_count": 13,
     "metadata": {},
     "output_type": "execute_result"
    }
   ],
   "source": [
    "pingouin.ttest(x=subject_means.loc[subject_means.Experiment==0,'ACC'],y=subject_means.loc[subject_means.Experiment==2,'ACC'])"
   ]
  },
  {
   "cell_type": "code",
   "execution_count": 14,
   "metadata": {},
   "outputs": [
    {
     "data": {
      "text/html": [
       "<div>\n",
       "<style scoped>\n",
       "    .dataframe tbody tr th:only-of-type {\n",
       "        vertical-align: middle;\n",
       "    }\n",
       "\n",
       "    .dataframe tbody tr th {\n",
       "        vertical-align: top;\n",
       "    }\n",
       "\n",
       "    .dataframe thead th {\n",
       "        text-align: right;\n",
       "    }\n",
       "</style>\n",
       "<table border=\"1\" class=\"dataframe\">\n",
       "  <thead>\n",
       "    <tr style=\"text-align: right;\">\n",
       "      <th></th>\n",
       "      <th>T</th>\n",
       "      <th>dof</th>\n",
       "      <th>alternative</th>\n",
       "      <th>p-val</th>\n",
       "      <th>CI95%</th>\n",
       "      <th>cohen-d</th>\n",
       "      <th>BF10</th>\n",
       "      <th>power</th>\n",
       "    </tr>\n",
       "  </thead>\n",
       "  <tbody>\n",
       "    <tr>\n",
       "      <th>T-test</th>\n",
       "      <td>1.140545</td>\n",
       "      <td>176.334611</td>\n",
       "      <td>two-sided</td>\n",
       "      <td>0.255606</td>\n",
       "      <td>[-0.01, 0.05]</td>\n",
       "      <td>0.16133</td>\n",
       "      <td>0.286</td>\n",
       "      <td>0.201407</td>\n",
       "    </tr>\n",
       "  </tbody>\n",
       "</table>\n",
       "</div>"
      ],
      "text/plain": [
       "               T         dof alternative     p-val          CI95%  cohen-d  \\\n",
       "T-test  1.140545  176.334611   two-sided  0.255606  [-0.01, 0.05]  0.16133   \n",
       "\n",
       "         BF10     power  \n",
       "T-test  0.286  0.201407  "
      ]
     },
     "execution_count": 14,
     "metadata": {},
     "output_type": "execute_result"
    }
   ],
   "source": [
    "pingouin.ttest(x=subject_means.loc[subject_means.Experiment==1,'ACC'],y=subject_means.loc[subject_means.Experiment==2,'ACC'])"
   ]
  },
  {
   "cell_type": "markdown",
   "metadata": {},
   "source": [
    "# Timing"
   ]
  },
  {
   "cell_type": "code",
   "execution_count": 52,
   "metadata": {},
   "outputs": [],
   "source": [
    "times = []\n",
    "subs = []\n",
    "exp = []\n",
    "for iexp in [0,1,2]:\n",
    "    df = behavior.loc[behavior.Experiment==iexp]\n",
    "    for isub in np.unique(df['Subject']):\n",
    "        df_sub = df.loc[df.Subject==isub]\n",
    "        times.append((df_sub.iloc[-1]['Timestamp'] - df_sub.iloc[0]['Timestamp'])/60)\n",
    "        subs.append(isub)\n",
    "        exp.append(iexp)"
   ]
  },
  {
   "cell_type": "code",
   "execution_count": 35,
   "metadata": {},
   "outputs": [
    {
     "name": "stdout",
     "output_type": "stream",
     "text": [
      "104.89176706827308\n",
      "73.05\n",
      "132.45\n"
     ]
    }
   ],
   "source": [
    "print(np.mean(times))\n",
    "print(min(times))\n",
    "print(max(times))"
   ]
  },
  {
   "cell_type": "markdown",
   "metadata": {},
   "source": [
    "# K\n"
   ]
  },
  {
   "cell_type": "code",
   "execution_count": 92,
   "metadata": {},
   "outputs": [],
   "source": [
    "# Functions for calculating K from behavior\n",
    "def calc_outcome(row):\n",
    "    \"\"\"\n",
    "    calculate outcome of trial \n",
    "        hit: notice a change\n",
    "        miss: fail to notice a change\n",
    "        rej: notice there is no change\n",
    "        fa (false alarm): notice change when there isn't one\n",
    "    \"\"\"\n",
    "    accuracy = row['ACC']\n",
    "    change = row['TrialType']\n",
    "    if change == 1:\n",
    "        if accuracy == 1:\n",
    "            trial_outcome = 'hit'\n",
    "        else:\n",
    "            trial_outcome = 'miss'\n",
    "\n",
    "    if change == 0:\n",
    "        if accuracy == 1:\n",
    "            trial_outcome = 'rej'\n",
    "        else: \n",
    "            trial_outcome = 'fa'\n",
    "    return trial_outcome\n",
    "\n",
    "def _calc_k(outcome, change, ss):\n",
    "    \"\"\"\n",
    "    a simple function that returns K.\n",
    "    \"\"\"\n",
    "    \n",
    "    hits = sum(outcome == 'hit')\n",
    "    fa = sum(outcome == 'fa')\n",
    "\n",
    "    num_change = sum(change==1)\n",
    "    num_no_change = sum(change==0)\n",
    "\n",
    "    h = hits/num_change\n",
    "    f = fa/num_no_change\n",
    "    k = ss*(h-f)\n",
    "    return k\n",
    "\n",
    "def calc_k(beh,ss):\n",
    "    \"\"\"\n",
    "    Runs previous functions and returns subject K.\n",
    "    \"\"\"\n",
    "    beh = beh[beh['SetSize']==ss]\n",
    "    beh['outcome']=beh.apply(lambda row : calc_outcome(row), axis = 1)\n",
    "    k = _calc_k(beh['outcome'],beh['TrialType'],ss)\n",
    "    return k"
   ]
  },
  {
   "cell_type": "code",
   "execution_count": 93,
   "metadata": {},
   "outputs": [],
   "source": [
    "%%capture\n",
    "experiment_names = ['1801','1901','1902']\n",
    "k = []\n",
    "exps = []\n",
    "ss = []\n",
    "for iexp,experiment_name in enumerate(experiment_names):\n",
    "    \n",
    "    data_dir = f'./data/{experiment_name}'\n",
    "    exp = decode_eeg.Experiment(experiment_name,data_dir,test=False)\n",
    "    \n",
    "    for isub in range(exp.nsub):\n",
    "        # Load subject's behavior data\n",
    "        behavior = pd.DataFrame(exp.load_behavior(isub))\n",
    "        k.append(calc_k(behavior,1))\n",
    "        k.append(calc_k(behavior,2))\n",
    "        k.append(calc_k(behavior,3))\n",
    "        k.append(calc_k(behavior,4))\n",
    "    exps.append(np.repeat(iexp,exp.nsub*4))\n",
    "    ss.append(np.tile([1,2,3,4],exp.nsub))"
   ]
  },
  {
   "cell_type": "code",
   "execution_count": 94,
   "metadata": {},
   "outputs": [],
   "source": [
    "df = pd.DataFrame({'Experiment':np.concatenate(exps), 'Set size': np.concatenate(ss), 'K': k})"
   ]
  },
  {
   "cell_type": "code",
   "execution_count": 95,
   "metadata": {},
   "outputs": [
    {
     "data": {
      "text/plain": [
       "Experiment  Set size\n",
       "0           1           0.828734\n",
       "            2           1.549287\n",
       "            3           2.008723\n",
       "            4           2.096505\n",
       "1           1           0.929879\n",
       "            2           1.658631\n",
       "            3           1.985427\n",
       "            4           2.055157\n",
       "2           1           0.930983\n",
       "            2           1.610887\n",
       "            3           1.806604\n",
       "            4           1.766841\n",
       "Name: K, dtype: float64"
      ]
     },
     "execution_count": 95,
     "metadata": {},
     "output_type": "execute_result"
    }
   ],
   "source": [
    "total_means = df.groupby(['Experiment','Set size'])['K'].mean()\n",
    "total_means"
   ]
  },
  {
   "cell_type": "code",
   "execution_count": 96,
   "metadata": {},
   "outputs": [],
   "source": [
    "sing = df.loc[(df['Experiment']==0)|(df['Experiment']==1)]\n",
    "conj = df.loc[df['Experiment']==2]"
   ]
  },
  {
   "cell_type": "code",
   "execution_count": 97,
   "metadata": {},
   "outputs": [
    {
     "data": {
      "image/png": "[encoded data removed]",
      "text/plain": [
       "<Figure size 1200x500 with 3 Axes>"
      ]
     },
     "metadata": {},
     "output_type": "display_data"
    }
   ],
   "source": [
    "fig, axes = plt.subplots(1, 3, sharey=True, figsize=(12,5))\n",
    "# fig.suptitle('Change detection K',fontsize=18)\n",
    "my_pal = {\"royalblue\", \"firebrick\", \"forestgreen\", \"orange\"}\n",
    "\n",
    "# experiment 1\n",
    "sns.violinplot(\n",
    "    ax = axes[0], \n",
    "    x='Set size',y='K', \n",
    "    data=df[df['Experiment']==0],\n",
    "    dodge=True,inner='points',cut=.5,palette = my_pal,scale='width')\n",
    "\n",
    "axes[0].set_title('Experiment 1 (color)',fontsize=14)\n",
    "\n",
    "# experiment 2\n",
    "sns.violinplot(\n",
    "    ax = axes[1], \n",
    "    x='Set size',y='K', \n",
    "    data=df[df['Experiment']==1],\n",
    "    dodge=True,inner='points',cut=.5,palette = my_pal,scale='width') \n",
    "\n",
    "axes[1].set_title('Experiment 2 (orientation)',fontsize=14)\n",
    "\n",
    "# experiment 3\n",
    "sns.violinplot(\n",
    "    ax = axes[2], \n",
    "    x='Set size',y='K', \n",
    "    data=df[df['Experiment']==2],\n",
    "    dodge=True,inner='points',cut=.5,palette = my_pal,scale='width') \n",
    "\n",
    "axes[2].set_title('Experiment 3 (conjunction)',fontsize=14)\n",
    "\n",
    "for iax,ax in enumerate(axes):\n",
    "\n",
    "    # plot means\n",
    "    ax.scatter(\n",
    "        x = [0,1,2,3],\n",
    "        y = [total_means[iax][1],total_means[iax][2],total_means[iax][3],total_means[iax][4]],\n",
    "        c = 'white', edgecolors='k',s=75)\n",
    "\n",
    "    # asethetics\n",
    "    ax.spines['right'].set_visible(False)\n",
    "    ax.spines['top'].set_visible(False)\n",
    "    plt.setp(ax.get_xticklabels(), fontsize=14)\n",
    "    plt.setp(ax.get_yticklabels(), fontsize=14)\n",
    "    ax.set_xlabel('Set size',fontsize=14)\n",
    "    if iax == 0:\n",
    "        ax.set_ylabel('K',fontsize=14)\n",
    "    else:\n",
    "        ax.set_ylabel('')\n",
    "plt.savefig('output/figures/cd_k.png',dpi=500,bbox_inches='tight')\n",
    "plt.savefig('output/figures/cd_k.pdf',dpi=500,bbox_inches='tight')\n",
    "plt.show()"
   ]
  },
  {
   "cell_type": "markdown",
   "metadata": {},
   "source": [
    "# Single feature versus conjuncion, within-subject"
   ]
  },
  {
   "cell_type": "code",
   "execution_count": 15,
   "metadata": {
    "ExecuteTime": {
     "end_time": "2020-04-27T15:55:43.018068Z",
     "start_time": "2020-04-27T15:55:42.828420Z"
    }
   },
   "outputs": [],
   "source": [
    "# Experiment setup\n",
    "experiment_name1 = '1801'\n",
    "experiment_name2 = '1901'\n",
    "experiment_name3 = '1902'\n",
    "data_dir1 = f'./data/{experiment_name1}'\n",
    "data_dir2 = f'./data/{experiment_name2}'\n",
    "data_dir3 = f'./data/{experiment_name3}'\n",
    "\n",
    "exp1 = decode_eeg.Experiment(experiment_name1,data_dir1)\n",
    "exp2 = decode_eeg.Experiment(experiment_name2,data_dir2)\n",
    "exp3 = decode_eeg.Experiment(experiment_name3,data_dir3)"
   ]
  },
  {
   "cell_type": "code",
   "execution_count": 16,
   "metadata": {
    "ExecuteTime": {
     "end_time": "2020-04-27T15:55:52.307884Z",
     "start_time": "2020-04-27T15:55:51.955223Z"
    }
   },
   "outputs": [],
   "source": [
    "# Classification parameters and setup\n",
    "time_window = 50\n",
    "time_step = 25\n",
    "trial_average = 20\n",
    "n_splits = 1000\n",
    "group_dict = {0:[1],1:[2],2:[3],3:[4]}\n",
    "wrangl = decode_eeg.Wrangler(exp1.info['times'],time_window,time_step,trial_average,n_splits,group_dict)\n",
    "\n",
    "sync = decode_eeg.Experiment_Syncer(experiments=[exp1,exp2,exp3],\n",
    "                                    wrangler = wrangl,\n",
    "                                    train_group = [experiment_name1,experiment_name2])\n",
    "\n",
    "clfr = decode_eeg.Classification(wrangl,sync.nsub)"
   ]
  },
  {
   "cell_type": "code",
   "execution_count": 17,
   "metadata": {},
   "outputs": [],
   "source": [
    "ss4_acc = np.empty((len(sync.matched_ids),3))\n",
    "for isub,sub in enumerate(sync.matched_ids):\n",
    "    beh = sync.load_behavior(sub)\n",
    "    for iexp,exp in enumerate(['1801','1901','1902']):\n",
    "        exp_beh = pd.DataFrame(beh[exp])\n",
    "        ss4_acc[isub,iexp] = exp_beh.groupby('SetSize')['ACC'].mean().loc[4]"
   ]
  },
  {
   "cell_type": "code",
   "execution_count": 18,
   "metadata": {},
   "outputs": [
    {
     "data": {
      "text/html": [
       "<div>\n",
       "<style scoped>\n",
       "    .dataframe tbody tr th:only-of-type {\n",
       "        vertical-align: middle;\n",
       "    }\n",
       "\n",
       "    .dataframe tbody tr th {\n",
       "        vertical-align: top;\n",
       "    }\n",
       "\n",
       "    .dataframe thead th {\n",
       "        text-align: right;\n",
       "    }\n",
       "</style>\n",
       "<table border=\"1\" class=\"dataframe\">\n",
       "  <thead>\n",
       "    <tr style=\"text-align: right;\">\n",
       "      <th></th>\n",
       "      <th>Color</th>\n",
       "      <th>Orientation</th>\n",
       "      <th>Conjunction</th>\n",
       "      <th>Single Feature</th>\n",
       "    </tr>\n",
       "  </thead>\n",
       "  <tbody>\n",
       "    <tr>\n",
       "      <th>0</th>\n",
       "      <td>0.824121</td>\n",
       "      <td>0.923913</td>\n",
       "      <td>0.837209</td>\n",
       "      <td>0.874017</td>\n",
       "    </tr>\n",
       "    <tr>\n",
       "      <th>1</th>\n",
       "      <td>0.715847</td>\n",
       "      <td>0.723514</td>\n",
       "      <td>0.717884</td>\n",
       "      <td>0.719681</td>\n",
       "    </tr>\n",
       "    <tr>\n",
       "      <th>2</th>\n",
       "      <td>0.857500</td>\n",
       "      <td>0.954674</td>\n",
       "      <td>0.864198</td>\n",
       "      <td>0.906087</td>\n",
       "    </tr>\n",
       "    <tr>\n",
       "      <th>3</th>\n",
       "      <td>0.734483</td>\n",
       "      <td>0.652174</td>\n",
       "      <td>0.709877</td>\n",
       "      <td>0.693328</td>\n",
       "    </tr>\n",
       "    <tr>\n",
       "      <th>4</th>\n",
       "      <td>0.788204</td>\n",
       "      <td>0.731343</td>\n",
       "      <td>0.727273</td>\n",
       "      <td>0.759774</td>\n",
       "    </tr>\n",
       "  </tbody>\n",
       "</table>\n",
       "</div>"
      ],
      "text/plain": [
       "      Color  Orientation  Conjunction  Single Feature\n",
       "0  0.824121     0.923913     0.837209        0.874017\n",
       "1  0.715847     0.723514     0.717884        0.719681\n",
       "2  0.857500     0.954674     0.864198        0.906087\n",
       "3  0.734483     0.652174     0.709877        0.693328\n",
       "4  0.788204     0.731343     0.727273        0.759774"
      ]
     },
     "execution_count": 18,
     "metadata": {},
     "output_type": "execute_result"
    }
   ],
   "source": [
    "acc = pd.DataFrame(ss4_acc,columns=['Color','Orientation','Conjunction'])\n",
    "acc['Single Feature'] = acc.loc[:,['Color','Orientation']].mean(1)\n",
    "acc.head()"
   ]
  },
  {
   "cell_type": "code",
   "execution_count": 23,
   "metadata": {},
   "outputs": [
    {
     "name": "stdout",
     "output_type": "stream",
     "text": [
      "Mean accuracy\n",
      "Single Feature    0.764374\n",
      "Conjunction       0.722885\n",
      "dtype: float64\n",
      "Mean SEM\n",
      "Single Feature    0.016941\n",
      "Conjunction       0.016594\n",
      "dtype: float64\n"
     ]
    },
    {
     "data": {
      "text/html": [
       "<div>\n",
       "<style scoped>\n",
       "    .dataframe tbody tr th:only-of-type {\n",
       "        vertical-align: middle;\n",
       "    }\n",
       "\n",
       "    .dataframe tbody tr th {\n",
       "        vertical-align: top;\n",
       "    }\n",
       "\n",
       "    .dataframe thead th {\n",
       "        text-align: right;\n",
       "    }\n",
       "</style>\n",
       "<table border=\"1\" class=\"dataframe\">\n",
       "  <thead>\n",
       "    <tr style=\"text-align: right;\">\n",
       "      <th></th>\n",
       "      <th>T</th>\n",
       "      <th>dof</th>\n",
       "      <th>alternative</th>\n",
       "      <th>p-val</th>\n",
       "      <th>CI95%</th>\n",
       "      <th>cohen-d</th>\n",
       "      <th>BF10</th>\n",
       "      <th>power</th>\n",
       "    </tr>\n",
       "  </thead>\n",
       "  <tbody>\n",
       "    <tr>\n",
       "      <th>T-test</th>\n",
       "      <td>3.809217</td>\n",
       "      <td>19</td>\n",
       "      <td>greater</td>\n",
       "      <td>0.000592</td>\n",
       "      <td>[0.02, inf]</td>\n",
       "      <td>0.553244</td>\n",
       "      <td>63.129</td>\n",
       "      <td>0.770266</td>\n",
       "    </tr>\n",
       "  </tbody>\n",
       "</table>\n",
       "</div>"
      ],
      "text/plain": [
       "               T  dof alternative     p-val        CI95%   cohen-d    BF10  \\\n",
       "T-test  3.809217   19     greater  0.000592  [0.02, inf]  0.553244  63.129   \n",
       "\n",
       "           power  \n",
       "T-test  0.770266  "
      ]
     },
     "execution_count": 23,
     "metadata": {},
     "output_type": "execute_result"
    }
   ],
   "source": [
    "print(f\"Mean accuracy\\n{acc.loc[:,['Single Feature', 'Conjunction']].mean()}\")\n",
    "print(f\"Mean SEM\\n{acc.loc[:,['Single Feature', 'Conjunction']].sem()}\")\n",
    "pingouin.ttest(x=acc['Single Feature'],y=acc['Conjunction'],alternative='greater',paired=True)"
   ]
  },
  {
   "cell_type": "code",
   "execution_count": 21,
   "metadata": {},
   "outputs": [
    {
     "data": {
      "image/png": "[encoded data removed]",
      "text/plain": [
       "<Figure size 640x480 with 1 Axes>"
      ]
     },
     "metadata": {},
     "output_type": "display_data"
    }
   ],
   "source": [
    "for i in range(20):\n",
    "    plt.plot([1,2],acc.loc[i,['Single Feature', 'Conjunction']],zorder=-100)\n",
    "    plt.scatter([1,2],acc.loc[i,['Single Feature', 'Conjunction']])\n",
    "plt.plot([1,2],acc.loc[:,['Single Feature', 'Conjunction']].mean(0),c='k',zorder=-100)\n",
    "plt.scatter([1,2],acc.loc[:,['Single Feature', 'Conjunction']].mean(0),s=200,c='k',marker='o')\n",
    "plt.scatter([1,2],acc.loc[:,['Single Feature', 'Conjunction']].mean(0),s=120,c='w',marker='o')\n",
    "\n",
    "plt.show()"
   ]
  }
 ],
 "metadata": {
  "interpreter": {
   "hash": "d3a69fb0db618fbcab2c09751e112fe5c333bd7dbcd22df9aa04e19f2c5c72f9"
  },
  "kernelspec": {
   "display_name": "Python 3.8.10 64-bit ('archery': conda)",
   "name": "python3"
  },
  "language_info": {
   "codemirror_mode": {
    "name": "ipython",
    "version": 3
   },
   "file_extension": ".py",
   "mimetype": "text/x-python",
   "name": "python",
   "nbconvert_exporter": "python",
   "pygments_lexer": "ipython3",
   "version": "3.8.10"
  },
  "varInspector": {
   "cols": {
    "lenName": 16,
    "lenType": 16,
    "lenVar": 40
   },
   "kernels_config": {
    "python": {
     "delete_cmd_postfix": "",
     "delete_cmd_prefix": "del ",
     "library": "var_list.py",
     "varRefreshCmd": "print(var_dic_list())"
    },
    "r": {
     "delete_cmd_postfix": ") ",
     "delete_cmd_prefix": "rm(",
     "library": "var_list.r",
     "varRefreshCmd": "cat(var_dic_list()) "
    }
   },
   "types_to_exclude": [
    "module",
    "function",
    "builtin_function_or_method",
    "instance",
    "_Feature"
   ],
   "window_display": false
  }
 },
 "nbformat": 4,
 "nbformat_minor": 2
}
